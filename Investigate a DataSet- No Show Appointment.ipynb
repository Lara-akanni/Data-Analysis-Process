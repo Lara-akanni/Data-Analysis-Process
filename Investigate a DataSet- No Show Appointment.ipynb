{
 "cells": [
  {
   "cell_type": "markdown",
   "id": "81c6a4a8",
   "metadata": {},
   "source": [
    "# Project: Investigate a DataSet (No Show Appointment Dataset)"
   ]
  },
  {
   "cell_type": "markdown",
   "id": "7f86bb88",
   "metadata": {},
   "source": [
    "## __Introduction__: \n",
    "This dataset collects information from 100k medical appointments in Brazil and is focused on the question of whether or not patients show up for their appointment."
   ]
  },
  {
   "cell_type": "markdown",
   "id": "dad6d854",
   "metadata": {},
   "source": [
    "#### For this project, the first step is to import the dataset to be analysed. In order to do this, we have to import the dataset into this notebook. We also have to import pandas libraries for cleaning, exploring the dataset, and seaborn, matplotlib inline function for visualization"
   ]
  },
  {
   "cell_type": "code",
   "execution_count": 1,
   "id": "f3c910c0",
   "metadata": {},
   "outputs": [],
   "source": [
    "import pandas as pd\n",
    "import matplotlib.pyplot as plt\n",
    "import seaborn as sns\n",
    "df = pd.read_csv('noshowappointments-kagglev2-may-2016.csv')"
   ]
  },
  {
   "cell_type": "markdown",
   "id": "174d4ab2",
   "metadata": {},
   "source": [
    "#### The code above shows that the dataset has been imported, however, we will like to view the column names and a few rows so as to see what the data looks like:"
   ]
  },
  {
   "cell_type": "code",
   "execution_count": 2,
   "id": "29f956b1",
   "metadata": {
    "scrolled": true
   },
   "outputs": [
    {
     "data": {
      "text/html": [
       "<div>\n",
       "<style scoped>\n",
       "    .dataframe tbody tr th:only-of-type {\n",
       "        vertical-align: middle;\n",
       "    }\n",
       "\n",
       "    .dataframe tbody tr th {\n",
       "        vertical-align: top;\n",
       "    }\n",
       "\n",
       "    .dataframe thead th {\n",
       "        text-align: right;\n",
       "    }\n",
       "</style>\n",
       "<table border=\"1\" class=\"dataframe\">\n",
       "  <thead>\n",
       "    <tr style=\"text-align: right;\">\n",
       "      <th></th>\n",
       "      <th>PatientId</th>\n",
       "      <th>AppointmentID</th>\n",
       "      <th>Gender</th>\n",
       "      <th>ScheduledDay</th>\n",
       "      <th>AppointmentDay</th>\n",
       "      <th>Age</th>\n",
       "      <th>Neighbourhood</th>\n",
       "      <th>Scholarship</th>\n",
       "      <th>Hipertension</th>\n",
       "      <th>Diabetes</th>\n",
       "      <th>Alcoholism</th>\n",
       "      <th>Handcap</th>\n",
       "      <th>SMS_received</th>\n",
       "      <th>No-show</th>\n",
       "    </tr>\n",
       "  </thead>\n",
       "  <tbody>\n",
       "    <tr>\n",
       "      <th>0</th>\n",
       "      <td>2.987250e+13</td>\n",
       "      <td>5642903</td>\n",
       "      <td>F</td>\n",
       "      <td>2016-04-29T18:38:08Z</td>\n",
       "      <td>2016-04-29T00:00:00Z</td>\n",
       "      <td>62</td>\n",
       "      <td>JARDIM DA PENHA</td>\n",
       "      <td>0</td>\n",
       "      <td>1</td>\n",
       "      <td>0</td>\n",
       "      <td>0</td>\n",
       "      <td>0</td>\n",
       "      <td>0</td>\n",
       "      <td>No</td>\n",
       "    </tr>\n",
       "    <tr>\n",
       "      <th>1</th>\n",
       "      <td>5.589978e+14</td>\n",
       "      <td>5642503</td>\n",
       "      <td>M</td>\n",
       "      <td>2016-04-29T16:08:27Z</td>\n",
       "      <td>2016-04-29T00:00:00Z</td>\n",
       "      <td>56</td>\n",
       "      <td>JARDIM DA PENHA</td>\n",
       "      <td>0</td>\n",
       "      <td>0</td>\n",
       "      <td>0</td>\n",
       "      <td>0</td>\n",
       "      <td>0</td>\n",
       "      <td>0</td>\n",
       "      <td>No</td>\n",
       "    </tr>\n",
       "    <tr>\n",
       "      <th>2</th>\n",
       "      <td>4.262962e+12</td>\n",
       "      <td>5642549</td>\n",
       "      <td>F</td>\n",
       "      <td>2016-04-29T16:19:04Z</td>\n",
       "      <td>2016-04-29T00:00:00Z</td>\n",
       "      <td>62</td>\n",
       "      <td>MATA DA PRAIA</td>\n",
       "      <td>0</td>\n",
       "      <td>0</td>\n",
       "      <td>0</td>\n",
       "      <td>0</td>\n",
       "      <td>0</td>\n",
       "      <td>0</td>\n",
       "      <td>No</td>\n",
       "    </tr>\n",
       "    <tr>\n",
       "      <th>3</th>\n",
       "      <td>8.679512e+11</td>\n",
       "      <td>5642828</td>\n",
       "      <td>F</td>\n",
       "      <td>2016-04-29T17:29:31Z</td>\n",
       "      <td>2016-04-29T00:00:00Z</td>\n",
       "      <td>8</td>\n",
       "      <td>PONTAL DE CAMBURI</td>\n",
       "      <td>0</td>\n",
       "      <td>0</td>\n",
       "      <td>0</td>\n",
       "      <td>0</td>\n",
       "      <td>0</td>\n",
       "      <td>0</td>\n",
       "      <td>No</td>\n",
       "    </tr>\n",
       "    <tr>\n",
       "      <th>4</th>\n",
       "      <td>8.841186e+12</td>\n",
       "      <td>5642494</td>\n",
       "      <td>F</td>\n",
       "      <td>2016-04-29T16:07:23Z</td>\n",
       "      <td>2016-04-29T00:00:00Z</td>\n",
       "      <td>56</td>\n",
       "      <td>JARDIM DA PENHA</td>\n",
       "      <td>0</td>\n",
       "      <td>1</td>\n",
       "      <td>1</td>\n",
       "      <td>0</td>\n",
       "      <td>0</td>\n",
       "      <td>0</td>\n",
       "      <td>No</td>\n",
       "    </tr>\n",
       "  </tbody>\n",
       "</table>\n",
       "</div>"
      ],
      "text/plain": [
       "      PatientId  AppointmentID Gender          ScheduledDay  \\\n",
       "0  2.987250e+13        5642903      F  2016-04-29T18:38:08Z   \n",
       "1  5.589978e+14        5642503      M  2016-04-29T16:08:27Z   \n",
       "2  4.262962e+12        5642549      F  2016-04-29T16:19:04Z   \n",
       "3  8.679512e+11        5642828      F  2016-04-29T17:29:31Z   \n",
       "4  8.841186e+12        5642494      F  2016-04-29T16:07:23Z   \n",
       "\n",
       "         AppointmentDay  Age      Neighbourhood  Scholarship  Hipertension  \\\n",
       "0  2016-04-29T00:00:00Z   62    JARDIM DA PENHA            0             1   \n",
       "1  2016-04-29T00:00:00Z   56    JARDIM DA PENHA            0             0   \n",
       "2  2016-04-29T00:00:00Z   62      MATA DA PRAIA            0             0   \n",
       "3  2016-04-29T00:00:00Z    8  PONTAL DE CAMBURI            0             0   \n",
       "4  2016-04-29T00:00:00Z   56    JARDIM DA PENHA            0             1   \n",
       "\n",
       "   Diabetes  Alcoholism  Handcap  SMS_received No-show  \n",
       "0         0           0        0             0      No  \n",
       "1         0           0        0             0      No  \n",
       "2         0           0        0             0      No  \n",
       "3         0           0        0             0      No  \n",
       "4         1           0        0             0      No  "
      ]
     },
     "execution_count": 2,
     "metadata": {},
     "output_type": "execute_result"
    }
   ],
   "source": [
    "df.head()"
   ]
  },
  {
   "cell_type": "markdown",
   "id": "4d36d80a",
   "metadata": {},
   "source": [
    "#### From the table above, we can see the column names. The column names can be described as follows based on the information gotten on Kaggle:"
   ]
  },
  {
   "cell_type": "markdown",
   "id": "b3b5bafe",
   "metadata": {},
   "source": [
    "1. __PatientID__: Identification of a patient\n",
    "\n",
    "2. __AppointmentID__: Identification of each appointment\n",
    "\n",
    "3. __Gender__: M for Male or F for Female\n",
    "\n",
    "4. __ScheduledDay__: The date the patient mentioned that they'll show up for the appointment, this is before appointment of course.\n",
    "\n",
    "5. __AppointmentDay__: The day of the actuall appointment, when they have to visit the doctor.\n",
    "\n",
    "6. __Age__: how old the patient is\n",
    "\n",
    "7. __Neighbourhood__: the location of the hospital.\n",
    "\n",
    "8. __Scholarship__: is the patient enrolled in Brasilian welfare program [Bolsa Familia](https://en.wikipedia.org/wiki/Bolsa_Fam%C3%ADlia)? True or False\n",
    "\n",
    "9. __Hipertension__: Does patient have hypertension? True or False\n",
    "\n",
    "10. __Diabetes__: Does patient have Diabetes? True or False\n",
    "\n",
    "11. __Alcoholism__: Does patient have Alcoholism? True or False\n",
    "\n",
    "12. __Handcap__: Is the patient handicapped? True or False\n",
    "\n",
    "13. __SMS_received__: Did pateint receive 1 or more messages sent to them?\n",
    "\n",
    "14. __No-show__: Did patient show up for the appointment? True or False."
   ]
  },
  {
   "cell_type": "markdown",
   "id": "dde1efde",
   "metadata": {},
   "source": [
    "## ACCESSING DATASET"
   ]
  },
  {
   "cell_type": "markdown",
   "id": "d2a0e2ec",
   "metadata": {},
   "source": [
    "#### Investigate the number of rows and number of columns in the dataset"
   ]
  },
  {
   "cell_type": "code",
   "execution_count": 3,
   "id": "527d04b5",
   "metadata": {},
   "outputs": [
    {
     "data": {
      "text/plain": [
       "(110527, 14)"
      ]
     },
     "execution_count": 3,
     "metadata": {},
     "output_type": "execute_result"
    }
   ],
   "source": [
    "df.shape"
   ]
  },
  {
   "cell_type": "markdown",
   "id": "75f47a56",
   "metadata": {},
   "source": [
    "This means that there are __14 columns__ and __11,0527 rows__ in this dataset."
   ]
  },
  {
   "cell_type": "markdown",
   "id": "8dc65c89",
   "metadata": {},
   "source": [
    "To further investgate each column, their data types and check if there are any null values to be dropped:"
   ]
  },
  {
   "cell_type": "code",
   "execution_count": 4,
   "id": "e94e20e6",
   "metadata": {},
   "outputs": [
    {
     "name": "stdout",
     "output_type": "stream",
     "text": [
      "<class 'pandas.core.frame.DataFrame'>\n",
      "RangeIndex: 110527 entries, 0 to 110526\n",
      "Data columns (total 14 columns):\n",
      " #   Column          Non-Null Count   Dtype  \n",
      "---  ------          --------------   -----  \n",
      " 0   PatientId       110527 non-null  float64\n",
      " 1   AppointmentID   110527 non-null  int64  \n",
      " 2   Gender          110527 non-null  object \n",
      " 3   ScheduledDay    110527 non-null  object \n",
      " 4   AppointmentDay  110527 non-null  object \n",
      " 5   Age             110527 non-null  int64  \n",
      " 6   Neighbourhood   110527 non-null  object \n",
      " 7   Scholarship     110527 non-null  int64  \n",
      " 8   Hipertension    110527 non-null  int64  \n",
      " 9   Diabetes        110527 non-null  int64  \n",
      " 10  Alcoholism      110527 non-null  int64  \n",
      " 11  Handcap         110527 non-null  int64  \n",
      " 12  SMS_received    110527 non-null  int64  \n",
      " 13  No-show         110527 non-null  object \n",
      "dtypes: float64(1), int64(8), object(5)\n",
      "memory usage: 11.8+ MB\n"
     ]
    }
   ],
   "source": [
    "df.info()"
   ]
  },
  {
   "cell_type": "markdown",
   "id": "9547c7a8",
   "metadata": {},
   "source": [
    "#### From the above, these can be noticed: \n",
    "1. There are no null values.\n",
    "2. There are no missing data since all columns have equal number of rows i.e 110527 rows each.\n",
    "3. ScheduledDay and AppointmentDay are both represented as strings instead of a datetime datasets."
   ]
  },
  {
   "cell_type": "markdown",
   "id": "94a721db",
   "metadata": {},
   "source": [
    "Accessing the data further;"
   ]
  },
  {
   "cell_type": "code",
   "execution_count": 5,
   "id": "0af19efb",
   "metadata": {},
   "outputs": [
    {
     "data": {
      "text/html": [
       "<div>\n",
       "<style scoped>\n",
       "    .dataframe tbody tr th:only-of-type {\n",
       "        vertical-align: middle;\n",
       "    }\n",
       "\n",
       "    .dataframe tbody tr th {\n",
       "        vertical-align: top;\n",
       "    }\n",
       "\n",
       "    .dataframe thead th {\n",
       "        text-align: right;\n",
       "    }\n",
       "</style>\n",
       "<table border=\"1\" class=\"dataframe\">\n",
       "  <thead>\n",
       "    <tr style=\"text-align: right;\">\n",
       "      <th></th>\n",
       "      <th>PatientId</th>\n",
       "      <th>AppointmentID</th>\n",
       "      <th>Age</th>\n",
       "      <th>Scholarship</th>\n",
       "      <th>Hipertension</th>\n",
       "      <th>Diabetes</th>\n",
       "      <th>Alcoholism</th>\n",
       "      <th>Handcap</th>\n",
       "      <th>SMS_received</th>\n",
       "    </tr>\n",
       "  </thead>\n",
       "  <tbody>\n",
       "    <tr>\n",
       "      <th>count</th>\n",
       "      <td>1.105270e+05</td>\n",
       "      <td>1.105270e+05</td>\n",
       "      <td>110527.000000</td>\n",
       "      <td>110527.000000</td>\n",
       "      <td>110527.000000</td>\n",
       "      <td>110527.000000</td>\n",
       "      <td>110527.000000</td>\n",
       "      <td>110527.000000</td>\n",
       "      <td>110527.000000</td>\n",
       "    </tr>\n",
       "    <tr>\n",
       "      <th>mean</th>\n",
       "      <td>1.474963e+14</td>\n",
       "      <td>5.675305e+06</td>\n",
       "      <td>37.088874</td>\n",
       "      <td>0.098266</td>\n",
       "      <td>0.197246</td>\n",
       "      <td>0.071865</td>\n",
       "      <td>0.030400</td>\n",
       "      <td>0.022248</td>\n",
       "      <td>0.321026</td>\n",
       "    </tr>\n",
       "    <tr>\n",
       "      <th>std</th>\n",
       "      <td>2.560949e+14</td>\n",
       "      <td>7.129575e+04</td>\n",
       "      <td>23.110205</td>\n",
       "      <td>0.297675</td>\n",
       "      <td>0.397921</td>\n",
       "      <td>0.258265</td>\n",
       "      <td>0.171686</td>\n",
       "      <td>0.161543</td>\n",
       "      <td>0.466873</td>\n",
       "    </tr>\n",
       "    <tr>\n",
       "      <th>min</th>\n",
       "      <td>3.921784e+04</td>\n",
       "      <td>5.030230e+06</td>\n",
       "      <td>-1.000000</td>\n",
       "      <td>0.000000</td>\n",
       "      <td>0.000000</td>\n",
       "      <td>0.000000</td>\n",
       "      <td>0.000000</td>\n",
       "      <td>0.000000</td>\n",
       "      <td>0.000000</td>\n",
       "    </tr>\n",
       "    <tr>\n",
       "      <th>25%</th>\n",
       "      <td>4.172614e+12</td>\n",
       "      <td>5.640286e+06</td>\n",
       "      <td>18.000000</td>\n",
       "      <td>0.000000</td>\n",
       "      <td>0.000000</td>\n",
       "      <td>0.000000</td>\n",
       "      <td>0.000000</td>\n",
       "      <td>0.000000</td>\n",
       "      <td>0.000000</td>\n",
       "    </tr>\n",
       "    <tr>\n",
       "      <th>50%</th>\n",
       "      <td>3.173184e+13</td>\n",
       "      <td>5.680573e+06</td>\n",
       "      <td>37.000000</td>\n",
       "      <td>0.000000</td>\n",
       "      <td>0.000000</td>\n",
       "      <td>0.000000</td>\n",
       "      <td>0.000000</td>\n",
       "      <td>0.000000</td>\n",
       "      <td>0.000000</td>\n",
       "    </tr>\n",
       "    <tr>\n",
       "      <th>75%</th>\n",
       "      <td>9.439172e+13</td>\n",
       "      <td>5.725524e+06</td>\n",
       "      <td>55.000000</td>\n",
       "      <td>0.000000</td>\n",
       "      <td>0.000000</td>\n",
       "      <td>0.000000</td>\n",
       "      <td>0.000000</td>\n",
       "      <td>0.000000</td>\n",
       "      <td>1.000000</td>\n",
       "    </tr>\n",
       "    <tr>\n",
       "      <th>max</th>\n",
       "      <td>9.999816e+14</td>\n",
       "      <td>5.790484e+06</td>\n",
       "      <td>115.000000</td>\n",
       "      <td>1.000000</td>\n",
       "      <td>1.000000</td>\n",
       "      <td>1.000000</td>\n",
       "      <td>1.000000</td>\n",
       "      <td>4.000000</td>\n",
       "      <td>1.000000</td>\n",
       "    </tr>\n",
       "  </tbody>\n",
       "</table>\n",
       "</div>"
      ],
      "text/plain": [
       "          PatientId  AppointmentID            Age    Scholarship  \\\n",
       "count  1.105270e+05   1.105270e+05  110527.000000  110527.000000   \n",
       "mean   1.474963e+14   5.675305e+06      37.088874       0.098266   \n",
       "std    2.560949e+14   7.129575e+04      23.110205       0.297675   \n",
       "min    3.921784e+04   5.030230e+06      -1.000000       0.000000   \n",
       "25%    4.172614e+12   5.640286e+06      18.000000       0.000000   \n",
       "50%    3.173184e+13   5.680573e+06      37.000000       0.000000   \n",
       "75%    9.439172e+13   5.725524e+06      55.000000       0.000000   \n",
       "max    9.999816e+14   5.790484e+06     115.000000       1.000000   \n",
       "\n",
       "        Hipertension       Diabetes     Alcoholism        Handcap  \\\n",
       "count  110527.000000  110527.000000  110527.000000  110527.000000   \n",
       "mean        0.197246       0.071865       0.030400       0.022248   \n",
       "std         0.397921       0.258265       0.171686       0.161543   \n",
       "min         0.000000       0.000000       0.000000       0.000000   \n",
       "25%         0.000000       0.000000       0.000000       0.000000   \n",
       "50%         0.000000       0.000000       0.000000       0.000000   \n",
       "75%         0.000000       0.000000       0.000000       0.000000   \n",
       "max         1.000000       1.000000       1.000000       4.000000   \n",
       "\n",
       "        SMS_received  \n",
       "count  110527.000000  \n",
       "mean        0.321026  \n",
       "std         0.466873  \n",
       "min         0.000000  \n",
       "25%         0.000000  \n",
       "50%         0.000000  \n",
       "75%         1.000000  \n",
       "max         1.000000  "
      ]
     },
     "execution_count": 5,
     "metadata": {},
     "output_type": "execute_result"
    }
   ],
   "source": [
    "df.describe()"
   ]
  },
  {
   "cell_type": "markdown",
   "id": "0bb78f90",
   "metadata": {},
   "source": [
    "__Conclusion__: We can conclude from this assessment that: \n",
    "* The average age of patients that scheduled appointments is 37years old.\n",
    "* It can also be noticed that the youngest patient is -1 year old, this could mean that a baby was also scheduled for an appointment i.e < 1 year old. This could be between 1month to 11months in age that wasn't specified in the data set. It could also mean that there was a mistake in computing the dataset.\n",
    "* The oldest patient that scheduled an appointment in this dataset is 115 years old.\n",
    "* We can notice that the maximum number for Handcap is '4', this means that the number of handicap a patient has is put into consideration"
   ]
  },
  {
   "cell_type": "markdown",
   "id": "a06a93c5",
   "metadata": {},
   "source": [
    "Investigating more on 'Handcap' column"
   ]
  },
  {
   "cell_type": "code",
   "execution_count": 6,
   "id": "0de2253d",
   "metadata": {},
   "outputs": [
    {
     "data": {
      "text/plain": [
       "5"
      ]
     },
     "execution_count": 6,
     "metadata": {},
     "output_type": "execute_result"
    }
   ],
   "source": [
    "#Calculating the total count of unique values in the 'Handcap' column\n",
    "\n",
    "df['Handcap'].nunique()"
   ]
  },
  {
   "cell_type": "code",
   "execution_count": 7,
   "id": "736872a4",
   "metadata": {},
   "outputs": [
    {
     "data": {
      "text/plain": [
       "0    108286\n",
       "1      2042\n",
       "2       183\n",
       "3        13\n",
       "4         3\n",
       "Name: Handcap, dtype: int64"
      ]
     },
     "execution_count": 7,
     "metadata": {},
     "output_type": "execute_result"
    }
   ],
   "source": [
    "#Determining what these unique values are and their value counts\n",
    "\n",
    "df['Handcap'].value_counts()"
   ]
  },
  {
   "cell_type": "markdown",
   "id": "5dc5d07f",
   "metadata": {},
   "source": [
    "This could mean that we have some patients with more than one part of their body handicapped."
   ]
  },
  {
   "cell_type": "markdown",
   "id": "2c7fa9b0",
   "metadata": {},
   "source": [
    "## CLEANING DATASET"
   ]
  },
  {
   "cell_type": "markdown",
   "id": "8ee08312",
   "metadata": {},
   "source": [
    "#### In order to clean the dataset, I'll be doing the following:\n",
    "1. Drop the negative age noticed in the Age column\n",
    "2. Check for blank spaces in the dataset.\n",
    "3. Check for duplicate and drop any duplicates if found.\n",
    "4. Drop the \"Patient ID\" column since the \"Appointment ID\" is simpler and it still uniquely identifies the patient.\n",
    "5. Simplify the ScheduledDay and AppointmentDay to just Date i.e. YY-MM-DD, and extract day of the week, time of day and month of the year from the Date into separate columns.\n",
    "6. Change the \"No-show\" column to data type \"integer\" whether 0 or 1 where 'Yes' means 1 and 'No' means 0\n",
    "7. Rename column label \"Hipertension\" spelling to \"Hypertension\", \"Handcap\" to \"Handicapped\", 'No-show' to 'No_show' and \"Scholarship\" to \"Bolsa Benefit\" as it's clearer that way, because the term \"scholarship\" could mean anything."
   ]
  },
  {
   "cell_type": "markdown",
   "id": "2f4dba5e",
   "metadata": {},
   "source": [
    "#### 1. Checking and dropping any negative age noticed in the Age column"
   ]
  },
  {
   "cell_type": "code",
   "execution_count": 8,
   "id": "4fc94398",
   "metadata": {},
   "outputs": [
    {
     "data": {
      "text/html": [
       "<div>\n",
       "<style scoped>\n",
       "    .dataframe tbody tr th:only-of-type {\n",
       "        vertical-align: middle;\n",
       "    }\n",
       "\n",
       "    .dataframe tbody tr th {\n",
       "        vertical-align: top;\n",
       "    }\n",
       "\n",
       "    .dataframe thead th {\n",
       "        text-align: right;\n",
       "    }\n",
       "</style>\n",
       "<table border=\"1\" class=\"dataframe\">\n",
       "  <thead>\n",
       "    <tr style=\"text-align: right;\">\n",
       "      <th></th>\n",
       "      <th>PatientId</th>\n",
       "      <th>AppointmentID</th>\n",
       "      <th>Gender</th>\n",
       "      <th>ScheduledDay</th>\n",
       "      <th>AppointmentDay</th>\n",
       "      <th>Age</th>\n",
       "      <th>Neighbourhood</th>\n",
       "      <th>Scholarship</th>\n",
       "      <th>Hipertension</th>\n",
       "      <th>Diabetes</th>\n",
       "      <th>Alcoholism</th>\n",
       "      <th>Handcap</th>\n",
       "      <th>SMS_received</th>\n",
       "      <th>No-show</th>\n",
       "    </tr>\n",
       "  </thead>\n",
       "  <tbody>\n",
       "    <tr>\n",
       "      <th>99832</th>\n",
       "      <td>4.659432e+14</td>\n",
       "      <td>5775010</td>\n",
       "      <td>F</td>\n",
       "      <td>2016-06-06T08:58:13Z</td>\n",
       "      <td>2016-06-06T00:00:00Z</td>\n",
       "      <td>-1</td>\n",
       "      <td>ROMÃO</td>\n",
       "      <td>0</td>\n",
       "      <td>0</td>\n",
       "      <td>0</td>\n",
       "      <td>0</td>\n",
       "      <td>0</td>\n",
       "      <td>0</td>\n",
       "      <td>No</td>\n",
       "    </tr>\n",
       "  </tbody>\n",
       "</table>\n",
       "</div>"
      ],
      "text/plain": [
       "          PatientId  AppointmentID Gender          ScheduledDay  \\\n",
       "99832  4.659432e+14        5775010      F  2016-06-06T08:58:13Z   \n",
       "\n",
       "             AppointmentDay  Age Neighbourhood  Scholarship  Hipertension  \\\n",
       "99832  2016-06-06T00:00:00Z   -1         ROMÃO            0             0   \n",
       "\n",
       "       Diabetes  Alcoholism  Handcap  SMS_received No-show  \n",
       "99832         0           0        0             0      No  "
      ]
     },
     "execution_count": 8,
     "metadata": {},
     "output_type": "execute_result"
    }
   ],
   "source": [
    "#Checking for the negative age to determine the row number\n",
    "\n",
    "df_age = df.query('Age < 0')\n",
    "df_age"
   ]
  },
  {
   "cell_type": "code",
   "execution_count": 9,
   "id": "fa38830b",
   "metadata": {},
   "outputs": [],
   "source": [
    "#Dropping the negative age\n",
    "\n",
    "df = df.drop(99832)"
   ]
  },
  {
   "cell_type": "code",
   "execution_count": 10,
   "id": "eace861a",
   "metadata": {
    "scrolled": true
   },
   "outputs": [
    {
     "data": {
      "text/plain": [
       "0"
      ]
     },
     "execution_count": 10,
     "metadata": {},
     "output_type": "execute_result"
    }
   ],
   "source": [
    "#Checking if the negative age has been dropped;\n",
    "df[\"Age\"].min()"
   ]
  },
  {
   "cell_type": "markdown",
   "id": "cc269e75",
   "metadata": {},
   "source": [
    "#### 2. Checking for blank spaces"
   ]
  },
  {
   "cell_type": "code",
   "execution_count": 11,
   "id": "2e5490a0",
   "metadata": {
    "scrolled": false
   },
   "outputs": [
    {
     "data": {
      "text/plain": [
       "0"
      ]
     },
     "execution_count": 11,
     "metadata": {},
     "output_type": "execute_result"
    }
   ],
   "source": [
    "#Checking for any blank space in the 'Neighbourhood' column as it's the only string\n",
    "\n",
    "df['Neighbourhood'].str.isspace().sum()"
   ]
  },
  {
   "cell_type": "markdown",
   "id": "d0b8dae6",
   "metadata": {},
   "source": [
    "There's no empty string for the Neighbourhood column so nothing is missing."
   ]
  },
  {
   "cell_type": "markdown",
   "id": "ece90b56",
   "metadata": {},
   "source": [
    "#### 3. Checking and dropping any duplicates found"
   ]
  },
  {
   "cell_type": "code",
   "execution_count": 12,
   "id": "7da80fb0",
   "metadata": {},
   "outputs": [
    {
     "data": {
      "text/plain": [
       "0"
      ]
     },
     "execution_count": 12,
     "metadata": {},
     "output_type": "execute_result"
    }
   ],
   "source": [
    "sum(df.duplicated())"
   ]
  },
  {
   "cell_type": "markdown",
   "id": "fd70d63c",
   "metadata": {},
   "source": [
    "##### From the above, we can conclude that there are no duplicates in this data set."
   ]
  },
  {
   "cell_type": "markdown",
   "id": "15a1645d",
   "metadata": {},
   "source": [
    "#### 4. Dropping the PatientID column"
   ]
  },
  {
   "cell_type": "code",
   "execution_count": 13,
   "id": "3ba50746",
   "metadata": {},
   "outputs": [],
   "source": [
    "columns_to_drop = ['PatientId']\n",
    "df = df.drop(columns=columns_to_drop)"
   ]
  },
  {
   "cell_type": "code",
   "execution_count": 14,
   "id": "6da07d6b",
   "metadata": {
    "scrolled": true
   },
   "outputs": [
    {
     "data": {
      "text/html": [
       "<div>\n",
       "<style scoped>\n",
       "    .dataframe tbody tr th:only-of-type {\n",
       "        vertical-align: middle;\n",
       "    }\n",
       "\n",
       "    .dataframe tbody tr th {\n",
       "        vertical-align: top;\n",
       "    }\n",
       "\n",
       "    .dataframe thead th {\n",
       "        text-align: right;\n",
       "    }\n",
       "</style>\n",
       "<table border=\"1\" class=\"dataframe\">\n",
       "  <thead>\n",
       "    <tr style=\"text-align: right;\">\n",
       "      <th></th>\n",
       "      <th>AppointmentID</th>\n",
       "      <th>Gender</th>\n",
       "      <th>ScheduledDay</th>\n",
       "      <th>AppointmentDay</th>\n",
       "      <th>Age</th>\n",
       "      <th>Neighbourhood</th>\n",
       "      <th>Scholarship</th>\n",
       "      <th>Hipertension</th>\n",
       "      <th>Diabetes</th>\n",
       "      <th>Alcoholism</th>\n",
       "      <th>Handcap</th>\n",
       "      <th>SMS_received</th>\n",
       "      <th>No-show</th>\n",
       "    </tr>\n",
       "  </thead>\n",
       "  <tbody>\n",
       "    <tr>\n",
       "      <th>0</th>\n",
       "      <td>5642903</td>\n",
       "      <td>F</td>\n",
       "      <td>2016-04-29T18:38:08Z</td>\n",
       "      <td>2016-04-29T00:00:00Z</td>\n",
       "      <td>62</td>\n",
       "      <td>JARDIM DA PENHA</td>\n",
       "      <td>0</td>\n",
       "      <td>1</td>\n",
       "      <td>0</td>\n",
       "      <td>0</td>\n",
       "      <td>0</td>\n",
       "      <td>0</td>\n",
       "      <td>No</td>\n",
       "    </tr>\n",
       "    <tr>\n",
       "      <th>1</th>\n",
       "      <td>5642503</td>\n",
       "      <td>M</td>\n",
       "      <td>2016-04-29T16:08:27Z</td>\n",
       "      <td>2016-04-29T00:00:00Z</td>\n",
       "      <td>56</td>\n",
       "      <td>JARDIM DA PENHA</td>\n",
       "      <td>0</td>\n",
       "      <td>0</td>\n",
       "      <td>0</td>\n",
       "      <td>0</td>\n",
       "      <td>0</td>\n",
       "      <td>0</td>\n",
       "      <td>No</td>\n",
       "    </tr>\n",
       "    <tr>\n",
       "      <th>2</th>\n",
       "      <td>5642549</td>\n",
       "      <td>F</td>\n",
       "      <td>2016-04-29T16:19:04Z</td>\n",
       "      <td>2016-04-29T00:00:00Z</td>\n",
       "      <td>62</td>\n",
       "      <td>MATA DA PRAIA</td>\n",
       "      <td>0</td>\n",
       "      <td>0</td>\n",
       "      <td>0</td>\n",
       "      <td>0</td>\n",
       "      <td>0</td>\n",
       "      <td>0</td>\n",
       "      <td>No</td>\n",
       "    </tr>\n",
       "    <tr>\n",
       "      <th>3</th>\n",
       "      <td>5642828</td>\n",
       "      <td>F</td>\n",
       "      <td>2016-04-29T17:29:31Z</td>\n",
       "      <td>2016-04-29T00:00:00Z</td>\n",
       "      <td>8</td>\n",
       "      <td>PONTAL DE CAMBURI</td>\n",
       "      <td>0</td>\n",
       "      <td>0</td>\n",
       "      <td>0</td>\n",
       "      <td>0</td>\n",
       "      <td>0</td>\n",
       "      <td>0</td>\n",
       "      <td>No</td>\n",
       "    </tr>\n",
       "    <tr>\n",
       "      <th>4</th>\n",
       "      <td>5642494</td>\n",
       "      <td>F</td>\n",
       "      <td>2016-04-29T16:07:23Z</td>\n",
       "      <td>2016-04-29T00:00:00Z</td>\n",
       "      <td>56</td>\n",
       "      <td>JARDIM DA PENHA</td>\n",
       "      <td>0</td>\n",
       "      <td>1</td>\n",
       "      <td>1</td>\n",
       "      <td>0</td>\n",
       "      <td>0</td>\n",
       "      <td>0</td>\n",
       "      <td>No</td>\n",
       "    </tr>\n",
       "  </tbody>\n",
       "</table>\n",
       "</div>"
      ],
      "text/plain": [
       "   AppointmentID Gender          ScheduledDay        AppointmentDay  Age  \\\n",
       "0        5642903      F  2016-04-29T18:38:08Z  2016-04-29T00:00:00Z   62   \n",
       "1        5642503      M  2016-04-29T16:08:27Z  2016-04-29T00:00:00Z   56   \n",
       "2        5642549      F  2016-04-29T16:19:04Z  2016-04-29T00:00:00Z   62   \n",
       "3        5642828      F  2016-04-29T17:29:31Z  2016-04-29T00:00:00Z    8   \n",
       "4        5642494      F  2016-04-29T16:07:23Z  2016-04-29T00:00:00Z   56   \n",
       "\n",
       "       Neighbourhood  Scholarship  Hipertension  Diabetes  Alcoholism  \\\n",
       "0    JARDIM DA PENHA            0             1         0           0   \n",
       "1    JARDIM DA PENHA            0             0         0           0   \n",
       "2      MATA DA PRAIA            0             0         0           0   \n",
       "3  PONTAL DE CAMBURI            0             0         0           0   \n",
       "4    JARDIM DA PENHA            0             1         1           0   \n",
       "\n",
       "   Handcap  SMS_received No-show  \n",
       "0        0             0      No  \n",
       "1        0             0      No  \n",
       "2        0             0      No  \n",
       "3        0             0      No  \n",
       "4        0             0      No  "
      ]
     },
     "execution_count": 14,
     "metadata": {},
     "output_type": "execute_result"
    }
   ],
   "source": [
    "#Checking of the PatientID column has been dropped\n",
    "\n",
    "df.head()"
   ]
  },
  {
   "cell_type": "markdown",
   "id": "e5761eda",
   "metadata": {},
   "source": [
    "From the above, we can see that the PatientID column has been dropped."
   ]
  },
  {
   "cell_type": "markdown",
   "id": "8f23f777",
   "metadata": {},
   "source": [
    "#### 5. Converting the ScheduledDay and AppointmentDay to Date (DD-MM-YY) and extracting day of the week, time of day and month of the year from the Date into separate columns."
   ]
  },
  {
   "cell_type": "code",
   "execution_count": 15,
   "id": "0eebc476",
   "metadata": {},
   "outputs": [],
   "source": [
    "df['AppointmentDay'] = pd.to_datetime(df['AppointmentDay'])\n",
    "df['Appointment_date'] = df['AppointmentDay'].dt.date\n",
    "df['Appointment_day_of_week'] = df['AppointmentDay'].dt.day_name()\n",
    "df['ScheduledDay'] = pd.to_datetime(df['ScheduledDay'])\n",
    "df['Scheduled_date'] = df['ScheduledDay'].dt.date\n",
    "df['Scheduled_time_of_day'] = df['ScheduledDay'].dt.time\n",
    "df['Scheduled_day_of_week'] = df['ScheduledDay'].dt.day_name()\n",
    "df['Scheduled_month'] = df['ScheduledDay'].dt.strftime('%B')"
   ]
  },
  {
   "cell_type": "markdown",
   "id": "c20a9db6",
   "metadata": {},
   "source": [
    "Checking if the AppointmentDay column has actually been converted to datetime datatype."
   ]
  },
  {
   "cell_type": "code",
   "execution_count": 16,
   "id": "6fc1a432",
   "metadata": {},
   "outputs": [
    {
     "data": {
      "text/html": [
       "<div>\n",
       "<style scoped>\n",
       "    .dataframe tbody tr th:only-of-type {\n",
       "        vertical-align: middle;\n",
       "    }\n",
       "\n",
       "    .dataframe tbody tr th {\n",
       "        vertical-align: top;\n",
       "    }\n",
       "\n",
       "    .dataframe thead th {\n",
       "        text-align: right;\n",
       "    }\n",
       "</style>\n",
       "<table border=\"1\" class=\"dataframe\">\n",
       "  <thead>\n",
       "    <tr style=\"text-align: right;\">\n",
       "      <th></th>\n",
       "      <th>AppointmentID</th>\n",
       "      <th>Gender</th>\n",
       "      <th>ScheduledDay</th>\n",
       "      <th>AppointmentDay</th>\n",
       "      <th>Age</th>\n",
       "      <th>Neighbourhood</th>\n",
       "      <th>Scholarship</th>\n",
       "      <th>Hipertension</th>\n",
       "      <th>Diabetes</th>\n",
       "      <th>Alcoholism</th>\n",
       "      <th>Handcap</th>\n",
       "      <th>SMS_received</th>\n",
       "      <th>No-show</th>\n",
       "      <th>Appointment_date</th>\n",
       "      <th>Appointment_day_of_week</th>\n",
       "      <th>Scheduled_date</th>\n",
       "      <th>Scheduled_time_of_day</th>\n",
       "      <th>Scheduled_day_of_week</th>\n",
       "      <th>Scheduled_month</th>\n",
       "    </tr>\n",
       "  </thead>\n",
       "  <tbody>\n",
       "    <tr>\n",
       "      <th>0</th>\n",
       "      <td>5642903</td>\n",
       "      <td>F</td>\n",
       "      <td>2016-04-29 18:38:08+00:00</td>\n",
       "      <td>2016-04-29 00:00:00+00:00</td>\n",
       "      <td>62</td>\n",
       "      <td>JARDIM DA PENHA</td>\n",
       "      <td>0</td>\n",
       "      <td>1</td>\n",
       "      <td>0</td>\n",
       "      <td>0</td>\n",
       "      <td>0</td>\n",
       "      <td>0</td>\n",
       "      <td>No</td>\n",
       "      <td>2016-04-29</td>\n",
       "      <td>Friday</td>\n",
       "      <td>2016-04-29</td>\n",
       "      <td>18:38:08</td>\n",
       "      <td>Friday</td>\n",
       "      <td>April</td>\n",
       "    </tr>\n",
       "    <tr>\n",
       "      <th>1</th>\n",
       "      <td>5642503</td>\n",
       "      <td>M</td>\n",
       "      <td>2016-04-29 16:08:27+00:00</td>\n",
       "      <td>2016-04-29 00:00:00+00:00</td>\n",
       "      <td>56</td>\n",
       "      <td>JARDIM DA PENHA</td>\n",
       "      <td>0</td>\n",
       "      <td>0</td>\n",
       "      <td>0</td>\n",
       "      <td>0</td>\n",
       "      <td>0</td>\n",
       "      <td>0</td>\n",
       "      <td>No</td>\n",
       "      <td>2016-04-29</td>\n",
       "      <td>Friday</td>\n",
       "      <td>2016-04-29</td>\n",
       "      <td>16:08:27</td>\n",
       "      <td>Friday</td>\n",
       "      <td>April</td>\n",
       "    </tr>\n",
       "    <tr>\n",
       "      <th>2</th>\n",
       "      <td>5642549</td>\n",
       "      <td>F</td>\n",
       "      <td>2016-04-29 16:19:04+00:00</td>\n",
       "      <td>2016-04-29 00:00:00+00:00</td>\n",
       "      <td>62</td>\n",
       "      <td>MATA DA PRAIA</td>\n",
       "      <td>0</td>\n",
       "      <td>0</td>\n",
       "      <td>0</td>\n",
       "      <td>0</td>\n",
       "      <td>0</td>\n",
       "      <td>0</td>\n",
       "      <td>No</td>\n",
       "      <td>2016-04-29</td>\n",
       "      <td>Friday</td>\n",
       "      <td>2016-04-29</td>\n",
       "      <td>16:19:04</td>\n",
       "      <td>Friday</td>\n",
       "      <td>April</td>\n",
       "    </tr>\n",
       "    <tr>\n",
       "      <th>3</th>\n",
       "      <td>5642828</td>\n",
       "      <td>F</td>\n",
       "      <td>2016-04-29 17:29:31+00:00</td>\n",
       "      <td>2016-04-29 00:00:00+00:00</td>\n",
       "      <td>8</td>\n",
       "      <td>PONTAL DE CAMBURI</td>\n",
       "      <td>0</td>\n",
       "      <td>0</td>\n",
       "      <td>0</td>\n",
       "      <td>0</td>\n",
       "      <td>0</td>\n",
       "      <td>0</td>\n",
       "      <td>No</td>\n",
       "      <td>2016-04-29</td>\n",
       "      <td>Friday</td>\n",
       "      <td>2016-04-29</td>\n",
       "      <td>17:29:31</td>\n",
       "      <td>Friday</td>\n",
       "      <td>April</td>\n",
       "    </tr>\n",
       "    <tr>\n",
       "      <th>4</th>\n",
       "      <td>5642494</td>\n",
       "      <td>F</td>\n",
       "      <td>2016-04-29 16:07:23+00:00</td>\n",
       "      <td>2016-04-29 00:00:00+00:00</td>\n",
       "      <td>56</td>\n",
       "      <td>JARDIM DA PENHA</td>\n",
       "      <td>0</td>\n",
       "      <td>1</td>\n",
       "      <td>1</td>\n",
       "      <td>0</td>\n",
       "      <td>0</td>\n",
       "      <td>0</td>\n",
       "      <td>No</td>\n",
       "      <td>2016-04-29</td>\n",
       "      <td>Friday</td>\n",
       "      <td>2016-04-29</td>\n",
       "      <td>16:07:23</td>\n",
       "      <td>Friday</td>\n",
       "      <td>April</td>\n",
       "    </tr>\n",
       "  </tbody>\n",
       "</table>\n",
       "</div>"
      ],
      "text/plain": [
       "   AppointmentID Gender              ScheduledDay            AppointmentDay  \\\n",
       "0        5642903      F 2016-04-29 18:38:08+00:00 2016-04-29 00:00:00+00:00   \n",
       "1        5642503      M 2016-04-29 16:08:27+00:00 2016-04-29 00:00:00+00:00   \n",
       "2        5642549      F 2016-04-29 16:19:04+00:00 2016-04-29 00:00:00+00:00   \n",
       "3        5642828      F 2016-04-29 17:29:31+00:00 2016-04-29 00:00:00+00:00   \n",
       "4        5642494      F 2016-04-29 16:07:23+00:00 2016-04-29 00:00:00+00:00   \n",
       "\n",
       "   Age      Neighbourhood  Scholarship  Hipertension  Diabetes  Alcoholism  \\\n",
       "0   62    JARDIM DA PENHA            0             1         0           0   \n",
       "1   56    JARDIM DA PENHA            0             0         0           0   \n",
       "2   62      MATA DA PRAIA            0             0         0           0   \n",
       "3    8  PONTAL DE CAMBURI            0             0         0           0   \n",
       "4   56    JARDIM DA PENHA            0             1         1           0   \n",
       "\n",
       "   Handcap  SMS_received No-show Appointment_date Appointment_day_of_week  \\\n",
       "0        0             0      No       2016-04-29                  Friday   \n",
       "1        0             0      No       2016-04-29                  Friday   \n",
       "2        0             0      No       2016-04-29                  Friday   \n",
       "3        0             0      No       2016-04-29                  Friday   \n",
       "4        0             0      No       2016-04-29                  Friday   \n",
       "\n",
       "  Scheduled_date Scheduled_time_of_day Scheduled_day_of_week Scheduled_month  \n",
       "0     2016-04-29              18:38:08                Friday           April  \n",
       "1     2016-04-29              16:08:27                Friday           April  \n",
       "2     2016-04-29              16:19:04                Friday           April  \n",
       "3     2016-04-29              17:29:31                Friday           April  \n",
       "4     2016-04-29              16:07:23                Friday           April  "
      ]
     },
     "execution_count": 16,
     "metadata": {},
     "output_type": "execute_result"
    }
   ],
   "source": [
    "#Checking if the AppointmentDay column has actually been converted to datetime datatype and if the new columns 'Scheduled_time_of_day', 'Scheduled_day_of_week' and 'Scheduled_month' were created \n",
    "\n",
    "df.head()"
   ]
  },
  {
   "cell_type": "code",
   "execution_count": 17,
   "id": "a59f27b8",
   "metadata": {},
   "outputs": [],
   "source": [
    "#Dropping the previous ScheduledDay and AppointmentDay since new columns 'Scheduled_date' and 'Appointment_date' have been created to replace them\n",
    "\n",
    "columns_to_drop = ['ScheduledDay', 'AppointmentDay']\n",
    "df = df.drop(columns=columns_to_drop)"
   ]
  },
  {
   "cell_type": "markdown",
   "id": "cc143726",
   "metadata": {},
   "source": [
    "Checking if the columns have been dropped:"
   ]
  },
  {
   "cell_type": "code",
   "execution_count": 18,
   "id": "171cc8cc",
   "metadata": {},
   "outputs": [
    {
     "data": {
      "text/html": [
       "<div>\n",
       "<style scoped>\n",
       "    .dataframe tbody tr th:only-of-type {\n",
       "        vertical-align: middle;\n",
       "    }\n",
       "\n",
       "    .dataframe tbody tr th {\n",
       "        vertical-align: top;\n",
       "    }\n",
       "\n",
       "    .dataframe thead th {\n",
       "        text-align: right;\n",
       "    }\n",
       "</style>\n",
       "<table border=\"1\" class=\"dataframe\">\n",
       "  <thead>\n",
       "    <tr style=\"text-align: right;\">\n",
       "      <th></th>\n",
       "      <th>AppointmentID</th>\n",
       "      <th>Gender</th>\n",
       "      <th>Age</th>\n",
       "      <th>Neighbourhood</th>\n",
       "      <th>Scholarship</th>\n",
       "      <th>Hipertension</th>\n",
       "      <th>Diabetes</th>\n",
       "      <th>Alcoholism</th>\n",
       "      <th>Handcap</th>\n",
       "      <th>SMS_received</th>\n",
       "      <th>No-show</th>\n",
       "      <th>Appointment_date</th>\n",
       "      <th>Appointment_day_of_week</th>\n",
       "      <th>Scheduled_date</th>\n",
       "      <th>Scheduled_time_of_day</th>\n",
       "      <th>Scheduled_day_of_week</th>\n",
       "      <th>Scheduled_month</th>\n",
       "    </tr>\n",
       "  </thead>\n",
       "  <tbody>\n",
       "    <tr>\n",
       "      <th>0</th>\n",
       "      <td>5642903</td>\n",
       "      <td>F</td>\n",
       "      <td>62</td>\n",
       "      <td>JARDIM DA PENHA</td>\n",
       "      <td>0</td>\n",
       "      <td>1</td>\n",
       "      <td>0</td>\n",
       "      <td>0</td>\n",
       "      <td>0</td>\n",
       "      <td>0</td>\n",
       "      <td>No</td>\n",
       "      <td>2016-04-29</td>\n",
       "      <td>Friday</td>\n",
       "      <td>2016-04-29</td>\n",
       "      <td>18:38:08</td>\n",
       "      <td>Friday</td>\n",
       "      <td>April</td>\n",
       "    </tr>\n",
       "    <tr>\n",
       "      <th>1</th>\n",
       "      <td>5642503</td>\n",
       "      <td>M</td>\n",
       "      <td>56</td>\n",
       "      <td>JARDIM DA PENHA</td>\n",
       "      <td>0</td>\n",
       "      <td>0</td>\n",
       "      <td>0</td>\n",
       "      <td>0</td>\n",
       "      <td>0</td>\n",
       "      <td>0</td>\n",
       "      <td>No</td>\n",
       "      <td>2016-04-29</td>\n",
       "      <td>Friday</td>\n",
       "      <td>2016-04-29</td>\n",
       "      <td>16:08:27</td>\n",
       "      <td>Friday</td>\n",
       "      <td>April</td>\n",
       "    </tr>\n",
       "    <tr>\n",
       "      <th>2</th>\n",
       "      <td>5642549</td>\n",
       "      <td>F</td>\n",
       "      <td>62</td>\n",
       "      <td>MATA DA PRAIA</td>\n",
       "      <td>0</td>\n",
       "      <td>0</td>\n",
       "      <td>0</td>\n",
       "      <td>0</td>\n",
       "      <td>0</td>\n",
       "      <td>0</td>\n",
       "      <td>No</td>\n",
       "      <td>2016-04-29</td>\n",
       "      <td>Friday</td>\n",
       "      <td>2016-04-29</td>\n",
       "      <td>16:19:04</td>\n",
       "      <td>Friday</td>\n",
       "      <td>April</td>\n",
       "    </tr>\n",
       "    <tr>\n",
       "      <th>3</th>\n",
       "      <td>5642828</td>\n",
       "      <td>F</td>\n",
       "      <td>8</td>\n",
       "      <td>PONTAL DE CAMBURI</td>\n",
       "      <td>0</td>\n",
       "      <td>0</td>\n",
       "      <td>0</td>\n",
       "      <td>0</td>\n",
       "      <td>0</td>\n",
       "      <td>0</td>\n",
       "      <td>No</td>\n",
       "      <td>2016-04-29</td>\n",
       "      <td>Friday</td>\n",
       "      <td>2016-04-29</td>\n",
       "      <td>17:29:31</td>\n",
       "      <td>Friday</td>\n",
       "      <td>April</td>\n",
       "    </tr>\n",
       "    <tr>\n",
       "      <th>4</th>\n",
       "      <td>5642494</td>\n",
       "      <td>F</td>\n",
       "      <td>56</td>\n",
       "      <td>JARDIM DA PENHA</td>\n",
       "      <td>0</td>\n",
       "      <td>1</td>\n",
       "      <td>1</td>\n",
       "      <td>0</td>\n",
       "      <td>0</td>\n",
       "      <td>0</td>\n",
       "      <td>No</td>\n",
       "      <td>2016-04-29</td>\n",
       "      <td>Friday</td>\n",
       "      <td>2016-04-29</td>\n",
       "      <td>16:07:23</td>\n",
       "      <td>Friday</td>\n",
       "      <td>April</td>\n",
       "    </tr>\n",
       "  </tbody>\n",
       "</table>\n",
       "</div>"
      ],
      "text/plain": [
       "   AppointmentID Gender  Age      Neighbourhood  Scholarship  Hipertension  \\\n",
       "0        5642903      F   62    JARDIM DA PENHA            0             1   \n",
       "1        5642503      M   56    JARDIM DA PENHA            0             0   \n",
       "2        5642549      F   62      MATA DA PRAIA            0             0   \n",
       "3        5642828      F    8  PONTAL DE CAMBURI            0             0   \n",
       "4        5642494      F   56    JARDIM DA PENHA            0             1   \n",
       "\n",
       "   Diabetes  Alcoholism  Handcap  SMS_received No-show Appointment_date  \\\n",
       "0         0           0        0             0      No       2016-04-29   \n",
       "1         0           0        0             0      No       2016-04-29   \n",
       "2         0           0        0             0      No       2016-04-29   \n",
       "3         0           0        0             0      No       2016-04-29   \n",
       "4         1           0        0             0      No       2016-04-29   \n",
       "\n",
       "  Appointment_day_of_week Scheduled_date Scheduled_time_of_day  \\\n",
       "0                  Friday     2016-04-29              18:38:08   \n",
       "1                  Friday     2016-04-29              16:08:27   \n",
       "2                  Friday     2016-04-29              16:19:04   \n",
       "3                  Friday     2016-04-29              17:29:31   \n",
       "4                  Friday     2016-04-29              16:07:23   \n",
       "\n",
       "  Scheduled_day_of_week Scheduled_month  \n",
       "0                Friday           April  \n",
       "1                Friday           April  \n",
       "2                Friday           April  \n",
       "3                Friday           April  \n",
       "4                Friday           April  "
      ]
     },
     "execution_count": 18,
     "metadata": {},
     "output_type": "execute_result"
    }
   ],
   "source": [
    "#Checking if the columns have been dropped\n",
    "\n",
    "df.head()"
   ]
  },
  {
   "cell_type": "markdown",
   "id": "677ca0e8",
   "metadata": {},
   "source": [
    "#### 6. Converting 'No-show' data type"
   ]
  },
  {
   "cell_type": "code",
   "execution_count": 19,
   "id": "5eb283d1",
   "metadata": {},
   "outputs": [],
   "source": [
    "#Changing the \"No-show\" column to data type \"integer\" whether 0 or 1 where 'Yes' means 1 and 'No' means 0\n",
    "\n",
    "df['No-show'] = df['No-show'].replace(['Yes','No'], [1,0])"
   ]
  },
  {
   "cell_type": "markdown",
   "id": "7174e500",
   "metadata": {},
   "source": [
    "Checking if the 'No-show' column's datatype has actually been converted"
   ]
  },
  {
   "cell_type": "code",
   "execution_count": 20,
   "id": "81ba9315",
   "metadata": {},
   "outputs": [
    {
     "name": "stdout",
     "output_type": "stream",
     "text": [
      "<class 'pandas.core.frame.DataFrame'>\n",
      "Int64Index: 110526 entries, 0 to 110526\n",
      "Data columns (total 17 columns):\n",
      " #   Column                   Non-Null Count   Dtype \n",
      "---  ------                   --------------   ----- \n",
      " 0   AppointmentID            110526 non-null  int64 \n",
      " 1   Gender                   110526 non-null  object\n",
      " 2   Age                      110526 non-null  int64 \n",
      " 3   Neighbourhood            110526 non-null  object\n",
      " 4   Scholarship              110526 non-null  int64 \n",
      " 5   Hipertension             110526 non-null  int64 \n",
      " 6   Diabetes                 110526 non-null  int64 \n",
      " 7   Alcoholism               110526 non-null  int64 \n",
      " 8   Handcap                  110526 non-null  int64 \n",
      " 9   SMS_received             110526 non-null  int64 \n",
      " 10  No-show                  110526 non-null  int64 \n",
      " 11  Appointment_date         110526 non-null  object\n",
      " 12  Appointment_day_of_week  110526 non-null  object\n",
      " 13  Scheduled_date           110526 non-null  object\n",
      " 14  Scheduled_time_of_day    110526 non-null  object\n",
      " 15  Scheduled_day_of_week    110526 non-null  object\n",
      " 16  Scheduled_month          110526 non-null  object\n",
      "dtypes: int64(9), object(8)\n",
      "memory usage: 15.2+ MB\n"
     ]
    }
   ],
   "source": [
    "#Checking if the 'No-show' column's datatype has actually been converted\n",
    "\n",
    "df.info()"
   ]
  },
  {
   "cell_type": "markdown",
   "id": "bbffbcfe",
   "metadata": {},
   "source": [
    "From the above, we can see that the No-show column datatype is now an integer."
   ]
  },
  {
   "cell_type": "markdown",
   "id": "0ff0183b",
   "metadata": {},
   "source": [
    "#### 7. Renaming column labels"
   ]
  },
  {
   "cell_type": "code",
   "execution_count": 21,
   "id": "9c7610bc",
   "metadata": {},
   "outputs": [],
   "source": [
    "#Renaming \"Hipertension\" to \"Hypertension\", \"Handcap\" to \"Handicapped\", 'No-show': 'No_show' and \"Scholarship\" to \"Bolsa Benefit\"\n",
    "df = df.rename(columns={'Hipertension': 'Hypertension','Handcap': 'Handicapped', 'No-show': 'No_show', 'Scholarship': 'Bolsa Benefit'})"
   ]
  },
  {
   "cell_type": "code",
   "execution_count": 22,
   "id": "d6facdca",
   "metadata": {},
   "outputs": [
    {
     "data": {
      "text/html": [
       "<div>\n",
       "<style scoped>\n",
       "    .dataframe tbody tr th:only-of-type {\n",
       "        vertical-align: middle;\n",
       "    }\n",
       "\n",
       "    .dataframe tbody tr th {\n",
       "        vertical-align: top;\n",
       "    }\n",
       "\n",
       "    .dataframe thead th {\n",
       "        text-align: right;\n",
       "    }\n",
       "</style>\n",
       "<table border=\"1\" class=\"dataframe\">\n",
       "  <thead>\n",
       "    <tr style=\"text-align: right;\">\n",
       "      <th></th>\n",
       "      <th>AppointmentID</th>\n",
       "      <th>Gender</th>\n",
       "      <th>Age</th>\n",
       "      <th>Neighbourhood</th>\n",
       "      <th>Bolsa Benefit</th>\n",
       "      <th>Hypertension</th>\n",
       "      <th>Diabetes</th>\n",
       "      <th>Alcoholism</th>\n",
       "      <th>Handicapped</th>\n",
       "      <th>SMS_received</th>\n",
       "      <th>No_show</th>\n",
       "      <th>Appointment_date</th>\n",
       "      <th>Appointment_day_of_week</th>\n",
       "      <th>Scheduled_date</th>\n",
       "      <th>Scheduled_time_of_day</th>\n",
       "      <th>Scheduled_day_of_week</th>\n",
       "      <th>Scheduled_month</th>\n",
       "    </tr>\n",
       "  </thead>\n",
       "  <tbody>\n",
       "    <tr>\n",
       "      <th>0</th>\n",
       "      <td>5642903</td>\n",
       "      <td>F</td>\n",
       "      <td>62</td>\n",
       "      <td>JARDIM DA PENHA</td>\n",
       "      <td>0</td>\n",
       "      <td>1</td>\n",
       "      <td>0</td>\n",
       "      <td>0</td>\n",
       "      <td>0</td>\n",
       "      <td>0</td>\n",
       "      <td>0</td>\n",
       "      <td>2016-04-29</td>\n",
       "      <td>Friday</td>\n",
       "      <td>2016-04-29</td>\n",
       "      <td>18:38:08</td>\n",
       "      <td>Friday</td>\n",
       "      <td>April</td>\n",
       "    </tr>\n",
       "    <tr>\n",
       "      <th>1</th>\n",
       "      <td>5642503</td>\n",
       "      <td>M</td>\n",
       "      <td>56</td>\n",
       "      <td>JARDIM DA PENHA</td>\n",
       "      <td>0</td>\n",
       "      <td>0</td>\n",
       "      <td>0</td>\n",
       "      <td>0</td>\n",
       "      <td>0</td>\n",
       "      <td>0</td>\n",
       "      <td>0</td>\n",
       "      <td>2016-04-29</td>\n",
       "      <td>Friday</td>\n",
       "      <td>2016-04-29</td>\n",
       "      <td>16:08:27</td>\n",
       "      <td>Friday</td>\n",
       "      <td>April</td>\n",
       "    </tr>\n",
       "    <tr>\n",
       "      <th>2</th>\n",
       "      <td>5642549</td>\n",
       "      <td>F</td>\n",
       "      <td>62</td>\n",
       "      <td>MATA DA PRAIA</td>\n",
       "      <td>0</td>\n",
       "      <td>0</td>\n",
       "      <td>0</td>\n",
       "      <td>0</td>\n",
       "      <td>0</td>\n",
       "      <td>0</td>\n",
       "      <td>0</td>\n",
       "      <td>2016-04-29</td>\n",
       "      <td>Friday</td>\n",
       "      <td>2016-04-29</td>\n",
       "      <td>16:19:04</td>\n",
       "      <td>Friday</td>\n",
       "      <td>April</td>\n",
       "    </tr>\n",
       "    <tr>\n",
       "      <th>3</th>\n",
       "      <td>5642828</td>\n",
       "      <td>F</td>\n",
       "      <td>8</td>\n",
       "      <td>PONTAL DE CAMBURI</td>\n",
       "      <td>0</td>\n",
       "      <td>0</td>\n",
       "      <td>0</td>\n",
       "      <td>0</td>\n",
       "      <td>0</td>\n",
       "      <td>0</td>\n",
       "      <td>0</td>\n",
       "      <td>2016-04-29</td>\n",
       "      <td>Friday</td>\n",
       "      <td>2016-04-29</td>\n",
       "      <td>17:29:31</td>\n",
       "      <td>Friday</td>\n",
       "      <td>April</td>\n",
       "    </tr>\n",
       "    <tr>\n",
       "      <th>4</th>\n",
       "      <td>5642494</td>\n",
       "      <td>F</td>\n",
       "      <td>56</td>\n",
       "      <td>JARDIM DA PENHA</td>\n",
       "      <td>0</td>\n",
       "      <td>1</td>\n",
       "      <td>1</td>\n",
       "      <td>0</td>\n",
       "      <td>0</td>\n",
       "      <td>0</td>\n",
       "      <td>0</td>\n",
       "      <td>2016-04-29</td>\n",
       "      <td>Friday</td>\n",
       "      <td>2016-04-29</td>\n",
       "      <td>16:07:23</td>\n",
       "      <td>Friday</td>\n",
       "      <td>April</td>\n",
       "    </tr>\n",
       "  </tbody>\n",
       "</table>\n",
       "</div>"
      ],
      "text/plain": [
       "   AppointmentID Gender  Age      Neighbourhood  Bolsa Benefit  Hypertension  \\\n",
       "0        5642903      F   62    JARDIM DA PENHA              0             1   \n",
       "1        5642503      M   56    JARDIM DA PENHA              0             0   \n",
       "2        5642549      F   62      MATA DA PRAIA              0             0   \n",
       "3        5642828      F    8  PONTAL DE CAMBURI              0             0   \n",
       "4        5642494      F   56    JARDIM DA PENHA              0             1   \n",
       "\n",
       "   Diabetes  Alcoholism  Handicapped  SMS_received  No_show Appointment_date  \\\n",
       "0         0           0            0             0        0       2016-04-29   \n",
       "1         0           0            0             0        0       2016-04-29   \n",
       "2         0           0            0             0        0       2016-04-29   \n",
       "3         0           0            0             0        0       2016-04-29   \n",
       "4         1           0            0             0        0       2016-04-29   \n",
       "\n",
       "  Appointment_day_of_week Scheduled_date Scheduled_time_of_day  \\\n",
       "0                  Friday     2016-04-29              18:38:08   \n",
       "1                  Friday     2016-04-29              16:08:27   \n",
       "2                  Friday     2016-04-29              16:19:04   \n",
       "3                  Friday     2016-04-29              17:29:31   \n",
       "4                  Friday     2016-04-29              16:07:23   \n",
       "\n",
       "  Scheduled_day_of_week Scheduled_month  \n",
       "0                Friday           April  \n",
       "1                Friday           April  \n",
       "2                Friday           April  \n",
       "3                Friday           April  \n",
       "4                Friday           April  "
      ]
     },
     "execution_count": 22,
     "metadata": {},
     "output_type": "execute_result"
    }
   ],
   "source": [
    "#Checking dataset if the column labels have been renamed with the new labels\n",
    "\n",
    "df.head()"
   ]
  },
  {
   "cell_type": "markdown",
   "id": "4ef7e73d",
   "metadata": {},
   "source": [
    "## EXPLORING DATASET"
   ]
  },
  {
   "cell_type": "markdown",
   "id": "10efa4b6",
   "metadata": {},
   "source": [
    "#### Now that the dataset has been cleaned, we can now analyze the dataset and then explore the dataset to answer some questions from the analysis"
   ]
  },
  {
   "cell_type": "markdown",
   "id": "a0bf5f3e",
   "metadata": {},
   "source": [
    "#### Questions:\n",
    "\n",
    "1. Does being in an age group affect the patients showing up for their appointment?\n",
    "2. What percentage female patients showing up for their appointment?\n",
    "3. What percentage male patients showing up for their appointment?\n",
    "4. Does the difference in number of days between the appointment date and scheduled date affect the patients showing for their appointment\n",
    "4. Which day of the week, month has less or more show up rates and what's the trend?\n",
    "5. Plot handicap vs age group against no-show appointments?\n",
    "6. Does been hypertensive affect patients showing up for their appointment?\n",
    "5. Does receiving SMS affect patients showing up for their appointment?\n",
    "7. Does having diabetes affect patients showing up for their appointment?\n",
    "8. Does being an alcoholic affect patients showing up for their appointment?\n",
    "9. Does receiving an SMS affect patients showing up for their appointment?"
   ]
  },
  {
   "cell_type": "markdown",
   "id": "c7db10fc",
   "metadata": {},
   "source": [
    "### Analyzing the dataset"
   ]
  },
  {
   "cell_type": "code",
   "execution_count": 23,
   "id": "14cb9e5a",
   "metadata": {
    "scrolled": true
   },
   "outputs": [
    {
     "data": {
      "image/png": "[encoded data removed]",
      "text/plain": [
       "<Figure size 1440x1440 with 9 Axes>"
      ]
     },
     "metadata": {
      "needs_background": "light"
     },
     "output_type": "display_data"
    }
   ],
   "source": [
    "# Plotting histograms for all data columns to find patterns in the dataset.\n",
    "\n",
    "df.hist(figsize= (20,20),color = 'teal');"
   ]
  },
  {
   "cell_type": "markdown",
   "id": "56e85ea2",
   "metadata": {},
   "source": [
    "#### From the histogram above, the following can be noticed:\n",
    "\n",
    "1. Most patients that scheduled medical appointments are below 70 years of age.\n",
    "2. Most of the patients in Brazil don't have the Bolsa Benefit\n",
    "4. Most of the patients do not have hypertension.\n",
    "5. Most of the patients do not have diabetes.\n",
    "6. Most of the patients are not alcoholics.\n",
    "7. Most of the patients are not handicapped.\n",
    "8. Most of the patients did not recieve messages.\n",
    "9. Most of the patients did not show up for their medical appointments."
   ]
  },
  {
   "cell_type": "code",
   "execution_count": 24,
   "id": "c0b2bb9b",
   "metadata": {},
   "outputs": [
    {
     "data": {
      "text/plain": [
       "JARDIM CAMBURI                 7717\n",
       "MARIA ORTIZ                    5805\n",
       "RESISTÊNCIA                    4431\n",
       "JARDIM DA PENHA                3877\n",
       "ITARARÉ                        3514\n",
       "                               ... \n",
       "ILHA DO BOI                      35\n",
       "ILHA DO FRADE                    10\n",
       "AEROPORTO                         8\n",
       "ILHAS OCEÂNICAS DE TRINDADE       2\n",
       "PARQUE INDUSTRIAL                 1\n",
       "Name: Neighbourhood, Length: 81, dtype: int64"
      ]
     },
     "execution_count": 24,
     "metadata": {},
     "output_type": "execute_result"
    }
   ],
   "source": [
    "#Exploring the 'Neighbourhood' data column\n",
    "\n",
    "df['Neighbourhood'].value_counts()"
   ]
  },
  {
   "cell_type": "code",
   "execution_count": 25,
   "id": "1575dd2e",
   "metadata": {
    "scrolled": true
   },
   "outputs": [
    {
     "data": {
      "text/plain": [
       "<AxesSubplot:>"
      ]
     },
     "execution_count": 25,
     "metadata": {},
     "output_type": "execute_result"
    },
    {
     "data": {
      "image/png": "[encoded data removed]",
      "text/plain": [
       "<Figure size 1440x1440 with 1 Axes>"
      ]
     },
     "metadata": {
      "needs_background": "light"
     },
     "output_type": "display_data"
    }
   ],
   "source": [
    "#Visualizing the Neighbourhood data column\n",
    "\n",
    "df['Neighbourhood'].value_counts().plot(kind = 'bar', figsize= (20,20), color = 'teal')"
   ]
  },
  {
   "cell_type": "markdown",
   "id": "c1cc3004",
   "metadata": {},
   "source": [
    "##### From the above, most patients that scheduled appointment are from ___Jardim Camburi___ neighbourhood"
   ]
  },
  {
   "cell_type": "markdown",
   "id": "2e27944b",
   "metadata": {},
   "source": [
    "## Answering Some Questions by exploring dataset further"
   ]
  },
  {
   "cell_type": "markdown",
   "id": "640239f9",
   "metadata": {},
   "source": [
    "###  How does being in an age group affect the show up for their appointment?"
   ]
  },
  {
   "cell_type": "code",
   "execution_count": 26,
   "id": "fb1a9ad1",
   "metadata": {
    "scrolled": true
   },
   "outputs": [
    {
     "data": {
      "text/html": [
       "<div>\n",
       "<style scoped>\n",
       "    .dataframe tbody tr th:only-of-type {\n",
       "        vertical-align: middle;\n",
       "    }\n",
       "\n",
       "    .dataframe tbody tr th {\n",
       "        vertical-align: top;\n",
       "    }\n",
       "\n",
       "    .dataframe thead th {\n",
       "        text-align: right;\n",
       "    }\n",
       "</style>\n",
       "<table border=\"1\" class=\"dataframe\">\n",
       "  <thead>\n",
       "    <tr style=\"text-align: right;\">\n",
       "      <th></th>\n",
       "      <th>AppointmentID</th>\n",
       "      <th>Gender</th>\n",
       "      <th>Age</th>\n",
       "      <th>Neighbourhood</th>\n",
       "      <th>Bolsa Benefit</th>\n",
       "      <th>Hypertension</th>\n",
       "      <th>Diabetes</th>\n",
       "      <th>Alcoholism</th>\n",
       "      <th>Handicapped</th>\n",
       "      <th>SMS_received</th>\n",
       "      <th>No_show</th>\n",
       "      <th>Appointment_date</th>\n",
       "      <th>Appointment_day_of_week</th>\n",
       "      <th>Scheduled_date</th>\n",
       "      <th>Scheduled_time_of_day</th>\n",
       "      <th>Scheduled_day_of_week</th>\n",
       "      <th>Scheduled_month</th>\n",
       "      <th>age_group</th>\n",
       "    </tr>\n",
       "  </thead>\n",
       "  <tbody>\n",
       "    <tr>\n",
       "      <th>0</th>\n",
       "      <td>5642903</td>\n",
       "      <td>F</td>\n",
       "      <td>62</td>\n",
       "      <td>JARDIM DA PENHA</td>\n",
       "      <td>0</td>\n",
       "      <td>1</td>\n",
       "      <td>0</td>\n",
       "      <td>0</td>\n",
       "      <td>0</td>\n",
       "      <td>0</td>\n",
       "      <td>0</td>\n",
       "      <td>2016-04-29</td>\n",
       "      <td>Friday</td>\n",
       "      <td>2016-04-29</td>\n",
       "      <td>18:38:08</td>\n",
       "      <td>Friday</td>\n",
       "      <td>April</td>\n",
       "      <td>61-70</td>\n",
       "    </tr>\n",
       "    <tr>\n",
       "      <th>1</th>\n",
       "      <td>5642503</td>\n",
       "      <td>M</td>\n",
       "      <td>56</td>\n",
       "      <td>JARDIM DA PENHA</td>\n",
       "      <td>0</td>\n",
       "      <td>0</td>\n",
       "      <td>0</td>\n",
       "      <td>0</td>\n",
       "      <td>0</td>\n",
       "      <td>0</td>\n",
       "      <td>0</td>\n",
       "      <td>2016-04-29</td>\n",
       "      <td>Friday</td>\n",
       "      <td>2016-04-29</td>\n",
       "      <td>16:08:27</td>\n",
       "      <td>Friday</td>\n",
       "      <td>April</td>\n",
       "      <td>51-60</td>\n",
       "    </tr>\n",
       "    <tr>\n",
       "      <th>2</th>\n",
       "      <td>5642549</td>\n",
       "      <td>F</td>\n",
       "      <td>62</td>\n",
       "      <td>MATA DA PRAIA</td>\n",
       "      <td>0</td>\n",
       "      <td>0</td>\n",
       "      <td>0</td>\n",
       "      <td>0</td>\n",
       "      <td>0</td>\n",
       "      <td>0</td>\n",
       "      <td>0</td>\n",
       "      <td>2016-04-29</td>\n",
       "      <td>Friday</td>\n",
       "      <td>2016-04-29</td>\n",
       "      <td>16:19:04</td>\n",
       "      <td>Friday</td>\n",
       "      <td>April</td>\n",
       "      <td>61-70</td>\n",
       "    </tr>\n",
       "    <tr>\n",
       "      <th>3</th>\n",
       "      <td>5642828</td>\n",
       "      <td>F</td>\n",
       "      <td>8</td>\n",
       "      <td>PONTAL DE CAMBURI</td>\n",
       "      <td>0</td>\n",
       "      <td>0</td>\n",
       "      <td>0</td>\n",
       "      <td>0</td>\n",
       "      <td>0</td>\n",
       "      <td>0</td>\n",
       "      <td>0</td>\n",
       "      <td>2016-04-29</td>\n",
       "      <td>Friday</td>\n",
       "      <td>2016-04-29</td>\n",
       "      <td>17:29:31</td>\n",
       "      <td>Friday</td>\n",
       "      <td>April</td>\n",
       "      <td>0-10</td>\n",
       "    </tr>\n",
       "    <tr>\n",
       "      <th>4</th>\n",
       "      <td>5642494</td>\n",
       "      <td>F</td>\n",
       "      <td>56</td>\n",
       "      <td>JARDIM DA PENHA</td>\n",
       "      <td>0</td>\n",
       "      <td>1</td>\n",
       "      <td>1</td>\n",
       "      <td>0</td>\n",
       "      <td>0</td>\n",
       "      <td>0</td>\n",
       "      <td>0</td>\n",
       "      <td>2016-04-29</td>\n",
       "      <td>Friday</td>\n",
       "      <td>2016-04-29</td>\n",
       "      <td>16:07:23</td>\n",
       "      <td>Friday</td>\n",
       "      <td>April</td>\n",
       "      <td>51-60</td>\n",
       "    </tr>\n",
       "  </tbody>\n",
       "</table>\n",
       "</div>"
      ],
      "text/plain": [
       "   AppointmentID Gender  Age      Neighbourhood  Bolsa Benefit  Hypertension  \\\n",
       "0        5642903      F   62    JARDIM DA PENHA              0             1   \n",
       "1        5642503      M   56    JARDIM DA PENHA              0             0   \n",
       "2        5642549      F   62      MATA DA PRAIA              0             0   \n",
       "3        5642828      F    8  PONTAL DE CAMBURI              0             0   \n",
       "4        5642494      F   56    JARDIM DA PENHA              0             1   \n",
       "\n",
       "   Diabetes  Alcoholism  Handicapped  SMS_received  No_show Appointment_date  \\\n",
       "0         0           0            0             0        0       2016-04-29   \n",
       "1         0           0            0             0        0       2016-04-29   \n",
       "2         0           0            0             0        0       2016-04-29   \n",
       "3         0           0            0             0        0       2016-04-29   \n",
       "4         1           0            0             0        0       2016-04-29   \n",
       "\n",
       "  Appointment_day_of_week Scheduled_date Scheduled_time_of_day  \\\n",
       "0                  Friday     2016-04-29              18:38:08   \n",
       "1                  Friday     2016-04-29              16:08:27   \n",
       "2                  Friday     2016-04-29              16:19:04   \n",
       "3                  Friday     2016-04-29              17:29:31   \n",
       "4                  Friday     2016-04-29              16:07:23   \n",
       "\n",
       "  Scheduled_day_of_week Scheduled_month age_group  \n",
       "0                Friday           April     61-70  \n",
       "1                Friday           April     51-60  \n",
       "2                Friday           April     61-70  \n",
       "3                Friday           April      0-10  \n",
       "4                Friday           April     51-60  "
      ]
     },
     "execution_count": 26,
     "metadata": {},
     "output_type": "execute_result"
    }
   ],
   "source": [
    "#Defining the age bins and the labels for each age group\n",
    "age_bins = [0, 10, 20, 30, 40, 50, 60, 70, 80, 90, 100, 115 ]\n",
    "age_label = ['0-10', '11-20', '21-30', '31-40', '41-50', '51-60', '61-70', '71-80', '81-90', '91-100', '100-115']\n",
    "\n",
    "#Creating a new column 'age_group' of patients using the age bins and age labels above\n",
    "df['age_group'] = pd.cut(df['Age'], bins=age_bins, labels=age_label, right=False, ordered=True)\n",
    "\n",
    "df.head()"
   ]
  },
  {
   "cell_type": "code",
   "execution_count": 27,
   "id": "13eec902",
   "metadata": {},
   "outputs": [
    {
     "data": {
      "text/plain": [
       "0-10       17475\n",
       "51-60      15863\n",
       "31-40      15171\n",
       "41-50      14209\n",
       "21-30      13699\n",
       "11-20      12936\n",
       "61-70      11876\n",
       "71-80       5934\n",
       "81-90       2946\n",
       "91-100       406\n",
       "100-115        6\n",
       "Name: age_group, dtype: int64"
      ]
     },
     "execution_count": 27,
     "metadata": {},
     "output_type": "execute_result"
    }
   ],
   "source": [
    "#Determining the value counts per age group of patients in the dataset\n",
    "\n",
    "df.age_group.value_counts()"
   ]
  },
  {
   "cell_type": "code",
   "execution_count": 28,
   "id": "79bddc70",
   "metadata": {
    "scrolled": true
   },
   "outputs": [
    {
     "data": {
      "image/png": "[encoded data removed]",
      "text/plain": [
       "<Figure size 1440x720 with 1 Axes>"
      ]
     },
     "metadata": {
      "needs_background": "light"
     },
     "output_type": "display_data"
    }
   ],
   "source": [
    "#Visualizing the age groups of all patients in the dataset\n",
    "\n",
    "plt.figure(figsize=(20,10))\n",
    "sns.countplot(x=\"age_group\", data=df, palette=\"Set3\", alpha=0.8, edgecolor='black')\n",
    "plt.show()"
   ]
  },
  {
   "cell_type": "code",
   "execution_count": 29,
   "id": "73a4df42",
   "metadata": {
    "scrolled": true
   },
   "outputs": [
    {
     "data": {
      "image/png": "[encoded data removed]",
      "text/plain": [
       "<Figure size 1440x720 with 1 Axes>"
      ]
     },
     "metadata": {
      "needs_background": "light"
     },
     "output_type": "display_data"
    }
   ],
   "source": [
    "##Visualizing the age groups of female patients in the dataset\n",
    "\n",
    "plt.figure(figsize=(20,10))\n",
    "sns.countplot(x=\"age_group\", data=df[df[\"Gender\"]== \"F\"], palette=\"coolwarm\", alpha=0.8, edgecolor='black')\n",
    "plt.show()"
   ]
  },
  {
   "cell_type": "markdown",
   "id": "b9ab9989",
   "metadata": {},
   "source": [
    "#### Most females in the dataset are between the ages 51 and 60 years old."
   ]
  },
  {
   "cell_type": "code",
   "execution_count": 30,
   "id": "e04e591e",
   "metadata": {
    "scrolled": true
   },
   "outputs": [
    {
     "data": {
      "image/png": "[encoded data removed]",
      "text/plain": [
       "<Figure size 1440x720 with 1 Axes>"
      ]
     },
     "metadata": {
      "needs_background": "light"
     },
     "output_type": "display_data"
    }
   ],
   "source": [
    "##Visualizing the age groups of male patients in the dataset\n",
    "\n",
    "plt.figure(figsize=(20,10))\n",
    "sns.countplot(x=\"age_group\", data=df[df[\"Gender\"]== \"M\"], palette=\"mako\", alpha=0.8, edgecolor='black')\n",
    "plt.show()"
   ]
  },
  {
   "cell_type": "markdown",
   "id": "ebabeac8",
   "metadata": {},
   "source": [
    "#### Most males in the dataset are between the ages 0 and 10 years old."
   ]
  },
  {
   "cell_type": "code",
   "execution_count": 31,
   "id": "0d5390f5",
   "metadata": {
    "scrolled": true
   },
   "outputs": [
    {
     "data": {
      "text/plain": [
       "Text(0, 0.5, 'Did not show up')"
      ]
     },
     "execution_count": 31,
     "metadata": {},
     "output_type": "execute_result"
    },
    {
     "data": {
      "image/png": "[encoded data removed]",
      "text/plain": [
       "<Figure size 1440x720 with 1 Axes>"
      ]
     },
     "metadata": {
      "needs_background": "light"
     },
     "output_type": "display_data"
    }
   ],
   "source": [
    "#Distribution of patients that didn't show up for their appointment according to their age groups\n",
    "\n",
    "plt.figure(figsize=(20,10))\n",
    "sns.countplot(x='age_group',data=df[df[\"No_show\"]== 0], palette='Set1', alpha=0.4, edgecolor='black')\n",
    "plt.ylabel('Did not show up')"
   ]
  },
  {
   "cell_type": "markdown",
   "id": "353722ac",
   "metadata": {},
   "source": [
    "#### It can be noticed from the visualization that most of the patients that didn't show up were between the ages of 0 and 10 years & 51 and 60 years old"
   ]
  },
  {
   "cell_type": "code",
   "execution_count": 32,
   "id": "94c1fd4a",
   "metadata": {},
   "outputs": [
    {
     "data": {
      "text/plain": [
       "Text(0, 0.5, 'Showed up')"
      ]
     },
     "execution_count": 32,
     "metadata": {},
     "output_type": "execute_result"
    },
    {
     "data": {
      "image/png": "[encoded data removed]",
      "text/plain": [
       "<Figure size 1440x720 with 1 Axes>"
      ]
     },
     "metadata": {
      "needs_background": "light"
     },
     "output_type": "display_data"
    }
   ],
   "source": [
    "#Distribution of patients that showed up for their appointment according to their age groups\n",
    "\n",
    "plt.figure(figsize=(20,10))\n",
    "sns.countplot(x='age_group',data=df[df[\"No_show\"]== 1], palette='Set1', alpha=0.4, edgecolor='black')\n",
    "plt.ylabel('Showed up')"
   ]
  },
  {
   "cell_type": "markdown",
   "id": "01755d09",
   "metadata": {},
   "source": [
    "#### It can be noticed from the visualization that most of the patients that showed up were between the ages of 0 and 10 years & 21 and 30 years old"
   ]
  },
  {
   "cell_type": "code",
   "execution_count": 33,
   "id": "10be14c4",
   "metadata": {
    "scrolled": false
   },
   "outputs": [
    {
     "data": {
      "image/png": "[encoded data removed]",
      "text/plain": [
       "<Figure size 1440x720 with 1 Axes>"
      ]
     },
     "metadata": {},
     "output_type": "display_data"
    }
   ],
   "source": [
    "sns.set_style('whitegrid')\n",
    "plt.figure(figsize=(20,10))\n",
    "sns.kdeplot(data=df, x=\"Age\", hue=\"No_show\", multiple='stack')\n",
    "plt.show()"
   ]
  },
  {
   "cell_type": "markdown",
   "id": "31558800",
   "metadata": {},
   "source": [
    "### What percentage female patients show up for their appointment? "
   ]
  },
  {
   "cell_type": "code",
   "execution_count": 34,
   "id": "2fad68c5",
   "metadata": {
    "scrolled": true
   },
   "outputs": [
    {
     "data": {
      "image/png": "[encoded data removed]",
      "text/plain": [
       "<Figure size 1440x720 with 1 Axes>"
      ]
     },
     "metadata": {},
     "output_type": "display_data"
    }
   ],
   "source": [
    "#Making sure the size of plot isn't too small to visualize\n",
    "plt.figure(figsize=(20,10))\n",
    "\n",
    "#Visualizing a countplot showing the distribution of female patients that either showed up or didn't show up for their appointment\n",
    "x = sns.countplot(x=\"No_show\", data=df[df[\"Gender\"]== \"F\"], palette=\"Set3\", alpha=0.8, edgecolor='black')\n",
    "\n",
    "#Calculating and visualizing the percentages for each bar\n",
    "total = len(df[df[\"Gender\"] == \"F\"])\n",
    "for p in x.patches:\n",
    "    percentage = '{:.1f}%'.format(100 * p.get_height() / total)\n",
    "    x.annotate(percentage, (p.get_x() + p.get_width() / 2., p.get_height()),\n",
    "                ha='center', va='baseline', fontsize=12, color='black', xytext=(0, 5),\n",
    "                textcoords='offset points')\n",
    "plt.show()"
   ]
  },
  {
   "cell_type": "markdown",
   "id": "fcdbe494",
   "metadata": {},
   "source": [
    "#### From the above, 20.3% of female patients showed up for their appointment while 79.7% of female patients didn't show up for their appointment"
   ]
  },
  {
   "cell_type": "markdown",
   "id": "4722ecb2",
   "metadata": {},
   "source": [
    "### What percentage male patients show up for their appointment? "
   ]
  },
  {
   "cell_type": "code",
   "execution_count": 35,
   "id": "c3a1d593",
   "metadata": {
    "scrolled": true
   },
   "outputs": [
    {
     "data": {
      "image/png": "[encoded data removed]",
      "text/plain": [
       "<Figure size 1440x720 with 1 Axes>"
      ]
     },
     "metadata": {},
     "output_type": "display_data"
    }
   ],
   "source": [
    "#Making sure the size of plot isn't too small to visualize\n",
    "plt.figure(figsize=(20,10))\n",
    "\n",
    "#Visualizing a countplot showing the distribution of female patients that either showed up or didn't show up for their appointment\n",
    "x = sns.countplot(x=\"No_show\", data=df[df[\"Gender\"]== \"M\"], palette=\"Set3\", alpha=0.8, edgecolor='black')\n",
    "\n",
    "#Calculating and visualizing the percentages for each bar\n",
    "total = len(df[df[\"Gender\"] == \"M\"])\n",
    "for p in x.patches:\n",
    "    percentage = '{:.1f}%'.format(100 * p.get_height() / total)\n",
    "    x.annotate(percentage, (p.get_x() + p.get_width() / 2., p.get_height()),\n",
    "                ha='center', va='baseline', fontsize=12, color='black', xytext=(0, 5),\n",
    "                textcoords='offset points')\n",
    "plt.show()"
   ]
  },
  {
   "cell_type": "markdown",
   "id": "dd436e84",
   "metadata": {},
   "source": [
    "#### From the above, 20% of male patients showed up for their appointment while 80% of male patients didn't show up for their appointment"
   ]
  },
  {
   "cell_type": "markdown",
   "id": "f04d58ae",
   "metadata": {},
   "source": [
    "### Does the difference in number of days between the appointment date and scheduled date affect the patients showing for their appointment"
   ]
  },
  {
   "cell_type": "code",
   "execution_count": 36,
   "id": "1ce77a62",
   "metadata": {
    "scrolled": true
   },
   "outputs": [
    {
     "data": {
      "text/html": [
       "<div>\n",
       "<style scoped>\n",
       "    .dataframe tbody tr th:only-of-type {\n",
       "        vertical-align: middle;\n",
       "    }\n",
       "\n",
       "    .dataframe tbody tr th {\n",
       "        vertical-align: top;\n",
       "    }\n",
       "\n",
       "    .dataframe thead th {\n",
       "        text-align: right;\n",
       "    }\n",
       "</style>\n",
       "<table border=\"1\" class=\"dataframe\">\n",
       "  <thead>\n",
       "    <tr style=\"text-align: right;\">\n",
       "      <th></th>\n",
       "      <th>AppointmentID</th>\n",
       "      <th>Gender</th>\n",
       "      <th>Age</th>\n",
       "      <th>Neighbourhood</th>\n",
       "      <th>Bolsa Benefit</th>\n",
       "      <th>Hypertension</th>\n",
       "      <th>Diabetes</th>\n",
       "      <th>Alcoholism</th>\n",
       "      <th>Handicapped</th>\n",
       "      <th>SMS_received</th>\n",
       "      <th>No_show</th>\n",
       "      <th>Appointment_date</th>\n",
       "      <th>Appointment_day_of_week</th>\n",
       "      <th>Scheduled_date</th>\n",
       "      <th>Scheduled_time_of_day</th>\n",
       "      <th>Scheduled_day_of_week</th>\n",
       "      <th>Scheduled_month</th>\n",
       "      <th>age_group</th>\n",
       "      <th>Date_Diff</th>\n",
       "    </tr>\n",
       "  </thead>\n",
       "  <tbody>\n",
       "    <tr>\n",
       "      <th>0</th>\n",
       "      <td>5642903</td>\n",
       "      <td>F</td>\n",
       "      <td>62</td>\n",
       "      <td>JARDIM DA PENHA</td>\n",
       "      <td>0</td>\n",
       "      <td>1</td>\n",
       "      <td>0</td>\n",
       "      <td>0</td>\n",
       "      <td>0</td>\n",
       "      <td>0</td>\n",
       "      <td>0</td>\n",
       "      <td>2016-04-29</td>\n",
       "      <td>Friday</td>\n",
       "      <td>2016-04-29</td>\n",
       "      <td>18:38:08</td>\n",
       "      <td>Friday</td>\n",
       "      <td>April</td>\n",
       "      <td>61-70</td>\n",
       "      <td>0</td>\n",
       "    </tr>\n",
       "    <tr>\n",
       "      <th>1</th>\n",
       "      <td>5642503</td>\n",
       "      <td>M</td>\n",
       "      <td>56</td>\n",
       "      <td>JARDIM DA PENHA</td>\n",
       "      <td>0</td>\n",
       "      <td>0</td>\n",
       "      <td>0</td>\n",
       "      <td>0</td>\n",
       "      <td>0</td>\n",
       "      <td>0</td>\n",
       "      <td>0</td>\n",
       "      <td>2016-04-29</td>\n",
       "      <td>Friday</td>\n",
       "      <td>2016-04-29</td>\n",
       "      <td>16:08:27</td>\n",
       "      <td>Friday</td>\n",
       "      <td>April</td>\n",
       "      <td>51-60</td>\n",
       "      <td>0</td>\n",
       "    </tr>\n",
       "    <tr>\n",
       "      <th>2</th>\n",
       "      <td>5642549</td>\n",
       "      <td>F</td>\n",
       "      <td>62</td>\n",
       "      <td>MATA DA PRAIA</td>\n",
       "      <td>0</td>\n",
       "      <td>0</td>\n",
       "      <td>0</td>\n",
       "      <td>0</td>\n",
       "      <td>0</td>\n",
       "      <td>0</td>\n",
       "      <td>0</td>\n",
       "      <td>2016-04-29</td>\n",
       "      <td>Friday</td>\n",
       "      <td>2016-04-29</td>\n",
       "      <td>16:19:04</td>\n",
       "      <td>Friday</td>\n",
       "      <td>April</td>\n",
       "      <td>61-70</td>\n",
       "      <td>0</td>\n",
       "    </tr>\n",
       "    <tr>\n",
       "      <th>3</th>\n",
       "      <td>5642828</td>\n",
       "      <td>F</td>\n",
       "      <td>8</td>\n",
       "      <td>PONTAL DE CAMBURI</td>\n",
       "      <td>0</td>\n",
       "      <td>0</td>\n",
       "      <td>0</td>\n",
       "      <td>0</td>\n",
       "      <td>0</td>\n",
       "      <td>0</td>\n",
       "      <td>0</td>\n",
       "      <td>2016-04-29</td>\n",
       "      <td>Friday</td>\n",
       "      <td>2016-04-29</td>\n",
       "      <td>17:29:31</td>\n",
       "      <td>Friday</td>\n",
       "      <td>April</td>\n",
       "      <td>0-10</td>\n",
       "      <td>0</td>\n",
       "    </tr>\n",
       "    <tr>\n",
       "      <th>4</th>\n",
       "      <td>5642494</td>\n",
       "      <td>F</td>\n",
       "      <td>56</td>\n",
       "      <td>JARDIM DA PENHA</td>\n",
       "      <td>0</td>\n",
       "      <td>1</td>\n",
       "      <td>1</td>\n",
       "      <td>0</td>\n",
       "      <td>0</td>\n",
       "      <td>0</td>\n",
       "      <td>0</td>\n",
       "      <td>2016-04-29</td>\n",
       "      <td>Friday</td>\n",
       "      <td>2016-04-29</td>\n",
       "      <td>16:07:23</td>\n",
       "      <td>Friday</td>\n",
       "      <td>April</td>\n",
       "      <td>51-60</td>\n",
       "      <td>0</td>\n",
       "    </tr>\n",
       "    <tr>\n",
       "      <th>5</th>\n",
       "      <td>5626772</td>\n",
       "      <td>F</td>\n",
       "      <td>76</td>\n",
       "      <td>REPÚBLICA</td>\n",
       "      <td>0</td>\n",
       "      <td>1</td>\n",
       "      <td>0</td>\n",
       "      <td>0</td>\n",
       "      <td>0</td>\n",
       "      <td>0</td>\n",
       "      <td>0</td>\n",
       "      <td>2016-04-29</td>\n",
       "      <td>Friday</td>\n",
       "      <td>2016-04-27</td>\n",
       "      <td>08:36:51</td>\n",
       "      <td>Wednesday</td>\n",
       "      <td>April</td>\n",
       "      <td>71-80</td>\n",
       "      <td>2</td>\n",
       "    </tr>\n",
       "    <tr>\n",
       "      <th>6</th>\n",
       "      <td>5630279</td>\n",
       "      <td>F</td>\n",
       "      <td>23</td>\n",
       "      <td>GOIABEIRAS</td>\n",
       "      <td>0</td>\n",
       "      <td>0</td>\n",
       "      <td>0</td>\n",
       "      <td>0</td>\n",
       "      <td>0</td>\n",
       "      <td>0</td>\n",
       "      <td>1</td>\n",
       "      <td>2016-04-29</td>\n",
       "      <td>Friday</td>\n",
       "      <td>2016-04-27</td>\n",
       "      <td>15:05:12</td>\n",
       "      <td>Wednesday</td>\n",
       "      <td>April</td>\n",
       "      <td>21-30</td>\n",
       "      <td>2</td>\n",
       "    </tr>\n",
       "    <tr>\n",
       "      <th>7</th>\n",
       "      <td>5630575</td>\n",
       "      <td>F</td>\n",
       "      <td>39</td>\n",
       "      <td>GOIABEIRAS</td>\n",
       "      <td>0</td>\n",
       "      <td>0</td>\n",
       "      <td>0</td>\n",
       "      <td>0</td>\n",
       "      <td>0</td>\n",
       "      <td>0</td>\n",
       "      <td>1</td>\n",
       "      <td>2016-04-29</td>\n",
       "      <td>Friday</td>\n",
       "      <td>2016-04-27</td>\n",
       "      <td>15:39:58</td>\n",
       "      <td>Wednesday</td>\n",
       "      <td>April</td>\n",
       "      <td>31-40</td>\n",
       "      <td>2</td>\n",
       "    </tr>\n",
       "    <tr>\n",
       "      <th>8</th>\n",
       "      <td>5638447</td>\n",
       "      <td>F</td>\n",
       "      <td>21</td>\n",
       "      <td>ANDORINHAS</td>\n",
       "      <td>0</td>\n",
       "      <td>0</td>\n",
       "      <td>0</td>\n",
       "      <td>0</td>\n",
       "      <td>0</td>\n",
       "      <td>0</td>\n",
       "      <td>0</td>\n",
       "      <td>2016-04-29</td>\n",
       "      <td>Friday</td>\n",
       "      <td>2016-04-29</td>\n",
       "      <td>08:02:16</td>\n",
       "      <td>Friday</td>\n",
       "      <td>April</td>\n",
       "      <td>21-30</td>\n",
       "      <td>0</td>\n",
       "    </tr>\n",
       "    <tr>\n",
       "      <th>9</th>\n",
       "      <td>5629123</td>\n",
       "      <td>F</td>\n",
       "      <td>19</td>\n",
       "      <td>CONQUISTA</td>\n",
       "      <td>0</td>\n",
       "      <td>0</td>\n",
       "      <td>0</td>\n",
       "      <td>0</td>\n",
       "      <td>0</td>\n",
       "      <td>0</td>\n",
       "      <td>0</td>\n",
       "      <td>2016-04-29</td>\n",
       "      <td>Friday</td>\n",
       "      <td>2016-04-27</td>\n",
       "      <td>12:48:25</td>\n",
       "      <td>Wednesday</td>\n",
       "      <td>April</td>\n",
       "      <td>11-20</td>\n",
       "      <td>2</td>\n",
       "    </tr>\n",
       "  </tbody>\n",
       "</table>\n",
       "</div>"
      ],
      "text/plain": [
       "   AppointmentID Gender  Age      Neighbourhood  Bolsa Benefit  Hypertension  \\\n",
       "0        5642903      F   62    JARDIM DA PENHA              0             1   \n",
       "1        5642503      M   56    JARDIM DA PENHA              0             0   \n",
       "2        5642549      F   62      MATA DA PRAIA              0             0   \n",
       "3        5642828      F    8  PONTAL DE CAMBURI              0             0   \n",
       "4        5642494      F   56    JARDIM DA PENHA              0             1   \n",
       "5        5626772      F   76          REPÚBLICA              0             1   \n",
       "6        5630279      F   23         GOIABEIRAS              0             0   \n",
       "7        5630575      F   39         GOIABEIRAS              0             0   \n",
       "8        5638447      F   21         ANDORINHAS              0             0   \n",
       "9        5629123      F   19          CONQUISTA              0             0   \n",
       "\n",
       "   Diabetes  Alcoholism  Handicapped  SMS_received  No_show Appointment_date  \\\n",
       "0         0           0            0             0        0       2016-04-29   \n",
       "1         0           0            0             0        0       2016-04-29   \n",
       "2         0           0            0             0        0       2016-04-29   \n",
       "3         0           0            0             0        0       2016-04-29   \n",
       "4         1           0            0             0        0       2016-04-29   \n",
       "5         0           0            0             0        0       2016-04-29   \n",
       "6         0           0            0             0        1       2016-04-29   \n",
       "7         0           0            0             0        1       2016-04-29   \n",
       "8         0           0            0             0        0       2016-04-29   \n",
       "9         0           0            0             0        0       2016-04-29   \n",
       "\n",
       "  Appointment_day_of_week Scheduled_date Scheduled_time_of_day  \\\n",
       "0                  Friday     2016-04-29              18:38:08   \n",
       "1                  Friday     2016-04-29              16:08:27   \n",
       "2                  Friday     2016-04-29              16:19:04   \n",
       "3                  Friday     2016-04-29              17:29:31   \n",
       "4                  Friday     2016-04-29              16:07:23   \n",
       "5                  Friday     2016-04-27              08:36:51   \n",
       "6                  Friday     2016-04-27              15:05:12   \n",
       "7                  Friday     2016-04-27              15:39:58   \n",
       "8                  Friday     2016-04-29              08:02:16   \n",
       "9                  Friday     2016-04-27              12:48:25   \n",
       "\n",
       "  Scheduled_day_of_week Scheduled_month age_group  Date_Diff  \n",
       "0                Friday           April     61-70          0  \n",
       "1                Friday           April     51-60          0  \n",
       "2                Friday           April     61-70          0  \n",
       "3                Friday           April      0-10          0  \n",
       "4                Friday           April     51-60          0  \n",
       "5             Wednesday           April     71-80          2  \n",
       "6             Wednesday           April     21-30          2  \n",
       "7             Wednesday           April     31-40          2  \n",
       "8                Friday           April     21-30          0  \n",
       "9             Wednesday           April     11-20          2  "
      ]
     },
     "execution_count": 36,
     "metadata": {},
     "output_type": "execute_result"
    }
   ],
   "source": [
    "#Calculating the difference in the no. of days between Appointment date and Scheduled date and create new column 'Date_Diff'\n",
    "df[\"Date_Diff\"] = abs(df['Appointment_date'] - df['Scheduled_date']).dt.days\n",
    "\n",
    "#Checking if the new column, Date_diff is appended to the dataframe and assessing the values in that column\n",
    "df.head(10)"
   ]
  },
  {
   "cell_type": "code",
   "execution_count": 37,
   "id": "872051f3",
   "metadata": {},
   "outputs": [
    {
     "data": {
      "text/plain": [
       "0      38562\n",
       "2       6725\n",
       "4       5290\n",
       "1       5217\n",
       "7       4906\n",
       "       ...  \n",
       "82         1\n",
       "146        1\n",
       "123        1\n",
       "101        1\n",
       "127        1\n",
       "Name: Date_Diff, Length: 129, dtype: int64"
      ]
     },
     "execution_count": 37,
     "metadata": {},
     "output_type": "execute_result"
    }
   ],
   "source": [
    "#Counting the no. of values in the 'Date_Diff' column\n",
    "\n",
    "df.Date_Diff.value_counts()"
   ]
  },
  {
   "cell_type": "code",
   "execution_count": 38,
   "id": "555b7763",
   "metadata": {
    "scrolled": true
   },
   "outputs": [
    {
     "data": {
      "text/plain": [
       "<seaborn.axisgrid.FacetGrid at 0x7f9f133a3d90>"
      ]
     },
     "execution_count": 38,
     "metadata": {},
     "output_type": "execute_result"
    },
    {
     "data": {
      "image/png": "[encoded data removed]",
      "text/plain": [
       "<Figure size 1209.6x504 with 1 Axes>"
      ]
     },
     "metadata": {},
     "output_type": "display_data"
    }
   ],
   "source": [
    "#Using seaborn to show distribution between the date difference and patients that showed up for their appointment\n",
    "\n",
    "sns.displot(data=df[df[\"No_show\"]== 1], x='Date_Diff', kde=False, height=7, aspect=2.4, bins=25, color='Orange')"
   ]
  },
  {
   "cell_type": "markdown",
   "id": "c5eb3135",
   "metadata": {},
   "source": [
    "#### From the above, it can be concluded that patients whose Scheduled date were closer to the Appointment date showed up more for their appointments"
   ]
  },
  {
   "cell_type": "markdown",
   "id": "ae13895d",
   "metadata": {},
   "source": [
    "### What day of the week do patients show up more for their medical appointment?"
   ]
  },
  {
   "cell_type": "code",
   "execution_count": 39,
   "id": "b9f65c98",
   "metadata": {
    "scrolled": false
   },
   "outputs": [
    {
     "data": {
      "image/png": "[encoded data removed]",
      "text/plain": [
       "<Figure size 1440x720 with 1 Axes>"
      ]
     },
     "metadata": {},
     "output_type": "display_data"
    }
   ],
   "source": [
    "#Making sure the size of plot isn't too small to visualize\n",
    "plt.figure(figsize=(20,10))\n",
    "\n",
    "#Visualizing the relationship between the day of the week and the no. of patients that showed up\n",
    "sns.countplot(x= \"Scheduled_day_of_week\", data=df[df[\"No_show\"]== 1], palette=\"coolwarm\", alpha=0.8, edgecolor='black')\n",
    "plt.show()"
   ]
  },
  {
   "cell_type": "markdown",
   "id": "a2572251",
   "metadata": {},
   "source": [
    "#### Most patients showed up for their medical appointment on Tuesdays"
   ]
  },
  {
   "cell_type": "code",
   "execution_count": 40,
   "id": "09319220",
   "metadata": {
    "scrolled": true
   },
   "outputs": [
    {
     "data": {
      "image/png": "[encoded data removed]",
      "text/plain": [
       "<Figure size 1440x720 with 1 Axes>"
      ]
     },
     "metadata": {},
     "output_type": "display_data"
    }
   ],
   "source": [
    "#Making sure the size of plot isn't too small to visualize\n",
    "plt.figure(figsize=(20,10))\n",
    "\n",
    "#Visualizing the relationship between the month of the year and the no. of patients that showed up\n",
    "sns.countplot(x= \"Scheduled_month\", data=df[df[\"No_show\"]== 1], palette=\"coolwarm\", alpha=0.8, edgecolor='black')\n",
    "plt.show()"
   ]
  },
  {
   "cell_type": "markdown",
   "id": "82cb9efb",
   "metadata": {},
   "source": [
    "#### Most patients showed up for their medical appointment in May"
   ]
  },
  {
   "cell_type": "markdown",
   "id": "b4a2f367",
   "metadata": {},
   "source": [
    "### How does being handicapped, hypertensive, having diabetes, being an alcoholic or receiving an SMS affect patients showing up for their appointment?"
   ]
  },
  {
   "cell_type": "markdown",
   "id": "e5504db3",
   "metadata": {},
   "source": [
    "#### Relationship between 'Handicapped' and patients that either showed up or didn't show up for their medical appointment"
   ]
  },
  {
   "cell_type": "code",
   "execution_count": 41,
   "id": "fd4423ae",
   "metadata": {
    "scrolled": false
   },
   "outputs": [
    {
     "data": {
      "image/png": "[encoded data removed]",
      "text/plain": [
       "<Figure size 864x360 with 1 Axes>"
      ]
     },
     "metadata": {},
     "output_type": "display_data"
    }
   ],
   "source": [
    "#Making sure the size of plot isn't too small to visualize\n",
    "plt.figure(figsize=(12,5))\n",
    "\n",
    "#Visualizing handicapped column vs No_show\n",
    "x = sns.countplot(x='Handicapped', hue='No_show', data=df, palette='Set2')\n",
    "\n",
    "#Calculating each bar and annotating percentages for each bar\n",
    "total_group = df.groupby('Handicapped')['No_show'].count()\n",
    "total = total_group.sum()\n",
    "for p in x.patches:\n",
    "    percentage = '{:.1f}%'.format(100 * p.get_height() / total_group[int(p.get_x())])\n",
    "    x.annotate(percentage, (p.get_x() + p.get_width() / 2., p.get_height()),\n",
    "                ha='center', va='baseline', fontsize=12, color='black', xytext=(0, 5),\n",
    "                textcoords='offset points')\n",
    "    \n",
    "#Labelling axes and Title\n",
    "plt.xlabel('Handicapped (0-No, 1,2,3,4-Yes)')\n",
    "plt.ylabel('Count')\n",
    "plt.title('Relationship between Handicapped and No-Show')\n",
    "\n",
    "#Show plot\n",
    "plt.show()"
   ]
  },
  {
   "cell_type": "markdown",
   "id": "9280c58f",
   "metadata": {},
   "source": [
    "#### From the above, we can see that most patients with more than 1 part of their body handicapped didn't show up for the medical appointment"
   ]
  },
  {
   "cell_type": "code",
   "execution_count": 42,
   "id": "418767b5",
   "metadata": {},
   "outputs": [
    {
     "name": "stdout",
     "output_type": "stream",
     "text": [
      "76.6\n"
     ]
    }
   ],
   "source": [
    "#Adding all handicapped patients that didn't show up\n",
    "a = 20.2 + 23.1 + 33.3\n",
    "print(a)"
   ]
  },
  {
   "cell_type": "code",
   "execution_count": 43,
   "id": "0e06fdc6",
   "metadata": {},
   "outputs": [],
   "source": [
    "#### 76.6% of the patients that didn't show up for their appointments were handicapped"
   ]
  },
  {
   "cell_type": "markdown",
   "id": "204961aa",
   "metadata": {},
   "source": [
    "#### Relationship between patients that have Diabetes and whether they showed up or didn't show up for their medical appointment"
   ]
  },
  {
   "cell_type": "code",
   "execution_count": 44,
   "id": "fb164c69",
   "metadata": {},
   "outputs": [
    {
     "data": {
      "image/png": "[encoded data removed]",
      "text/plain": [
       "<Figure size 864x360 with 1 Axes>"
      ]
     },
     "metadata": {},
     "output_type": "display_data"
    }
   ],
   "source": [
    "#Making sure the size of plot isn't too small to visualize\n",
    "plt.figure(figsize=(12,5))\n",
    "\n",
    "#Visualizing Diabetes column vs No_show\n",
    "x = sns.countplot(x='Diabetes', hue='No_show', data=df, palette='Set2')\n",
    "\n",
    "#Calculating each bar and annotating percentages for each bar\n",
    "total_group = df.groupby('Diabetes')['No_show'].count()\n",
    "total = total_group.sum()\n",
    "for p in x.patches:\n",
    "    percentage = '{:.1f}%'.format(100 * p.get_height() / total_group[int(p.get_x())])\n",
    "    x.annotate(percentage, (p.get_x() + p.get_width() / 2., p.get_height()),\n",
    "                ha='center', va='baseline', fontsize=12, color='black', xytext=(0, 5),\n",
    "                textcoords='offset points')\n",
    "    \n",
    "#Labelling axes and Title\n",
    "plt.xlabel('Diabetes (0-No, 1-Yes)')\n",
    "plt.ylabel('Count')\n",
    "plt.title('Relationship between Diabetes and No-Show')\n",
    "\n",
    "#Show plot\n",
    "plt.show()"
   ]
  },
  {
   "cell_type": "markdown",
   "id": "57e7cc35",
   "metadata": {},
   "source": [
    "#### Relationship between patients that have Hypertension and whether they showed up or didn't show up for their medical appointment"
   ]
  },
  {
   "cell_type": "code",
   "execution_count": 45,
   "id": "ba1cc9f8",
   "metadata": {},
   "outputs": [
    {
     "data": {
      "image/png": "[encoded data removed]",
      "text/plain": [
       "<Figure size 864x360 with 1 Axes>"
      ]
     },
     "metadata": {},
     "output_type": "display_data"
    }
   ],
   "source": [
    "#Making sure the size of plot isn't too small to visualize\n",
    "plt.figure(figsize=(12,5))\n",
    "\n",
    "#Visualizing Hypertension column vs No_show\n",
    "x = sns.countplot(x='Hypertension', hue='No_show', data=df, palette='Set2')\n",
    "\n",
    "#Calculating each bar and annotating percentages for each bar\n",
    "total_group = df.groupby('Hypertension')['No_show'].count()\n",
    "total = total_group.sum()\n",
    "for p in x.patches:\n",
    "    percentage = '{:.1f}%'.format(100 * p.get_height() / total_group[int(p.get_x())])\n",
    "    x.annotate(percentage, (p.get_x() + p.get_width() / 2., p.get_height()),\n",
    "                ha='center', va='baseline', fontsize=12, color='black', xytext=(0, 5),\n",
    "                textcoords='offset points')\n",
    "    \n",
    "#Labelling axes and Title\n",
    "plt.xlabel('Hypertension (0-No, 1-Yes)')\n",
    "plt.ylabel('Count')\n",
    "plt.title('Relationship between Hypertension and No-Show')\n",
    "\n",
    "#Show plot\n",
    "plt.show()"
   ]
  },
  {
   "cell_type": "markdown",
   "id": "c3f233dd",
   "metadata": {},
   "source": [
    "#### Relationship between patients that have Alcoholism and whether they showed up or didn't show up for their medical appointment"
   ]
  },
  {
   "cell_type": "code",
   "execution_count": 46,
   "id": "8ee8b51e",
   "metadata": {},
   "outputs": [
    {
     "data": {
      "image/png": "[encoded data removed]",
      "text/plain": [
       "<Figure size 864x360 with 1 Axes>"
      ]
     },
     "metadata": {},
     "output_type": "display_data"
    }
   ],
   "source": [
    "#Making sure the size of plot isn't too small to visualize\n",
    "plt.figure(figsize=(12,5))\n",
    "\n",
    "#Visualizing Alcoholism column vs No_show\n",
    "x = sns.countplot(x='Alcoholism', hue='No_show', data=df, palette='Set2')\n",
    "\n",
    "#Calculating each bar and annotating percentages for each bar\n",
    "total_group = df.groupby('Alcoholism')['No_show'].count()\n",
    "total = total_group.sum()\n",
    "for p in x.patches:\n",
    "    percentage = '{:.1f}%'.format(100 * p.get_height() / total_group[int(p.get_x())])\n",
    "    x.annotate(percentage, (p.get_x() + p.get_width() / 2., p.get_height()),\n",
    "                ha='center', va='baseline', fontsize=12, color='black', xytext=(0, 5),\n",
    "                textcoords='offset points')\n",
    "    \n",
    "#Labelling axes and Title\n",
    "plt.xlabel('Alcoholism (0-No, 1-Yes)')\n",
    "plt.ylabel('Count')\n",
    "plt.title('Relationship between Alcoholism and No-Show')\n",
    "\n",
    "#Show plot\n",
    "plt.show()"
   ]
  },
  {
   "cell_type": "markdown",
   "id": "ab5b780c",
   "metadata": {},
   "source": [
    "#### Relationship between patients that have Alcoholism and whether they showed up or didn't show up for their medical appointment"
   ]
  },
  {
   "cell_type": "code",
   "execution_count": 47,
   "id": "80d01a70",
   "metadata": {
    "scrolled": true
   },
   "outputs": [
    {
     "data": {
      "image/png": "[encoded data removed]",
      "text/plain": [
       "<Figure size 864x360 with 1 Axes>"
      ]
     },
     "metadata": {},
     "output_type": "display_data"
    }
   ],
   "source": [
    "#Making sure the size of plot isn't too small to visualize\n",
    "plt.figure(figsize=(12,5))\n",
    "\n",
    "#Visualizing SMS_received column vs No_show\n",
    "x = sns.countplot(x='SMS_received', hue='No_show', data=df, palette='Set2')\n",
    "\n",
    "#Calculating each bar and annotating percentages for each bar\n",
    "total_group = df.groupby('SMS_received')['No_show'].count()\n",
    "total = total_group.sum()\n",
    "for p in x.patches:\n",
    "    percentage = '{:.1f}%'.format(100 * p.get_height() / total_group[int(p.get_x())])\n",
    "    x.annotate(percentage, (p.get_x() + p.get_width() / 2., p.get_height()),\n",
    "                ha='center', va='baseline', fontsize=12, color='black', xytext=(0, 5),\n",
    "                textcoords='offset points')\n",
    "    \n",
    "#Labelling axes and Title\n",
    "plt.xlabel('SMS_received (0-No, 1-Yes)')\n",
    "plt.ylabel('Count')\n",
    "plt.title('Relationship between SMS_received and No-Show')\n",
    "\n",
    "#Show plot\n",
    "plt.show()"
   ]
  },
  {
   "cell_type": "code",
   "execution_count": 48,
   "id": "3236b61d",
   "metadata": {},
   "outputs": [
    {
     "data": {
      "image/png": "[encoded data removed]",
      "text/plain": [
       "<Figure size 864x360 with 1 Axes>"
      ]
     },
     "metadata": {},
     "output_type": "display_data"
    }
   ],
   "source": [
    "#Making sure the size of plot isn't too small to visualize\n",
    "plt.figure(figsize=(12,5))\n",
    "\n",
    "#Visualizing Bolsa Benefit column vs No_show\n",
    "x = sns.countplot(x='Bolsa Benefit', hue='No_show', data=df, palette='Set2')\n",
    "\n",
    "#Calculating each bar and annotating percentages for each bar\n",
    "total_group = df.groupby('Bolsa Benefit')['No_show'].count()\n",
    "total = total_group.sum()\n",
    "for p in x.patches:\n",
    "    percentage = '{:.1f}%'.format(100 * p.get_height() / total_group[int(p.get_x())])\n",
    "    x.annotate(percentage, (p.get_x() + p.get_width() / 2., p.get_height()),\n",
    "                ha='center', va='baseline', fontsize=12, color='black', xytext=(0, 5),\n",
    "                textcoords='offset points')\n",
    "    \n",
    "#Labelling axes and Title\n",
    "plt.xlabel('Bolsa Benefit (0-No, 1-Yes)')\n",
    "plt.ylabel('Count')\n",
    "plt.title('Relationship between Bolsa Benefit and No-Show')\n",
    "\n",
    "#Show plot\n",
    "plt.show()"
   ]
  },
  {
   "cell_type": "markdown",
   "id": "b0220901",
   "metadata": {},
   "source": [
    "## OBSERVATIONS AND CONCLUSIONS "
   ]
  },
  {
   "cell_type": "markdown",
   "id": "4d97916c",
   "metadata": {},
   "source": [
    "1. Most patients that scheduled appointment are from Jardim Camburi neighbourhood\n",
    "2. 20.3% of female patients showed up for their appointment while 79.7% of female patients didn't show up for their appointment\n",
    "3. 20% of male patients showed up for their appointment while 80% of male patients didn't show up for their appointmen\n",
    "4. Most patients showed up for their medical appointment on Tuesdays\n",
    "5. Most patients showed up for their medical appointment in May\n",
    "6. For patients that were handicapped, the probability of them not showing up for their appointment was higher than those that weren't handicapped.\n",
    "7. 6.3% of the patients that had diabetes didn't show up for their appointment. The probability of a patient having diabetes and showing up for their appointment is low.\n",
    "8. 20.3% of the patients that had hypertension didn't show up for their appointment. The probability of a patient having hypertension and showing up for their appointment is low.\n",
    "9. The probability of a patient being alcoholic and showing up for their appointment is low as there were more alcoholic patients that didn't show up for their medical appointment.\n",
    "10. For patients that received an SMS, most of them didn't show up. This means that receiving an SMS doesn't positively impact patients showing up for their medical appointments.\n",
    "11. For patients that have the Bolsa Benefit, most of them didn't show up. This means that having a Bolsa Benefit doesn't positively impact patients showing up for their medical appointments."
   ]
  }
 ],
 "metadata": {
  "kernelspec": {
   "display_name": "Python 3",
   "language": "python",
   "name": "python3"
  },
  "language_info": {
   "codemirror_mode": {
    "name": "ipython",
    "version": 3
   },
   "file_extension": ".py",
   "mimetype": "text/x-python",
   "name": "python",
   "nbconvert_exporter": "python",
   "pygments_lexer": "ipython3",
   "version": "3.8.8"
  }
 },
 "nbformat": 4,
 "nbformat_minor": 5
}
